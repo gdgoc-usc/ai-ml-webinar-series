{
 "cells": [
  {
   "cell_type": "code",
   "id": "2544ef38",
   "metadata": {
    "ExecuteTime": {
     "end_time": "2025-09-27T03:42:27.889028Z",
     "start_time": "2025-09-27T03:42:27.884086Z"
    }
   },
   "source": [
    "import pandas as pd\n",
    "import xgboost as xgb\n",
    "import matplotlib.pyplot as plt\n",
    "import optuna\n",
    "import statsmodels.api as sm\n",
    "import plotly.graph_objects as go\n",
    "import plotly.io as pio\n",
    "import plotly.figure_factory as ff\n",
    "import numpy as np\n",
    "from sklearn.model_selection import KFold\n",
    "from sklearn.model_selection import cross_val_score\n",
    "from sklearn.model_selection import train_test_split\n",
    "from sklearn.preprocessing import LabelEncoder\n",
    "from sklearn.metrics import root_mean_squared_error\n",
    "from statsmodels.tools.tools import add_constant\n",
    "import seaborn as sns\n",
    "pio.renderers.default = 'iframe'"
   ],
   "outputs": [],
   "execution_count": 54
  },
  {
   "cell_type": "markdown",
   "id": "c3810f27",
   "metadata": {},
   "source": [
    "# Step 1: Load Data\n",
    "----\n",
    "Important Note: Do not forget to brew install brew install libomp if using mac or install libgomp-1.dll for windows to download pretrained model"
   ]
  },
  {
   "cell_type": "code",
   "id": "609b6eaf",
   "metadata": {
    "ExecuteTime": {
     "end_time": "2025-09-27T03:10:44.838356Z",
     "start_time": "2025-09-27T03:10:44.831210Z"
    }
   },
   "source": [
    "data = pd.read_csv(\"datasets/orders.csv\")\n",
    "data"
   ],
   "outputs": [
    {
     "data": {
      "text/plain": [
       "   order_id      order_timestamp   delivery_timestamp  distance_km  \\\n",
       "0         1  2024-08-01 12:00:00  2024-08-01 12:30:00          5.2   \n",
       "1         2  2024-08-01 12:05:00  2024-08-01 12:45:00          3.1   \n",
       "2         3  2024-08-01 12:10:00  2024-08-01 12:20:00          1.5   \n",
       "3         4  2024-08-01 12:15:00  2024-08-01 12:50:00          4.0   \n",
       "4         5  2024-08-01 12:20:00  2024-08-01 12:35:00          2.8   \n",
       "5         6  2024-08-01 12:25:00  2024-08-01 12:55:00          6.0   \n",
       "6         7  2024-08-01 12:30:00  2024-08-01 12:40:00          2.0   \n",
       "7         8  2024-08-01 12:35:00  2024-08-01 13:05:00          3.5   \n",
       "8         9  2024-08-01 12:40:00  2024-08-01 12:50:00          1.0   \n",
       "9        10  2024-08-01 12:45:00  2024-08-01 13:15:00          7.0   \n",
       "\n",
       "   order_size  restaurant_popularity weather_conditions  traffic_conditions  \n",
       "0           3                    4.5              Clear                   1  \n",
       "1           2                    4.0               Rain                   2  \n",
       "2           1                    4.8              Clear                   1  \n",
       "3           5                    3.5             Cloudy                   3  \n",
       "4           4                    5.0              Clear                   1  \n",
       "5           2                    4.2               Rain                   2  \n",
       "6           1                    4.6              Clear                   1  \n",
       "7           3                    3.8                Fog                   3  \n",
       "8           1                    4.9              Clear                   1  \n",
       "9           6                    4.1               Rain                   2  "
      ],
      "text/html": [
       "<div>\n",
       "<style scoped>\n",
       "    .dataframe tbody tr th:only-of-type {\n",
       "        vertical-align: middle;\n",
       "    }\n",
       "\n",
       "    .dataframe tbody tr th {\n",
       "        vertical-align: top;\n",
       "    }\n",
       "\n",
       "    .dataframe thead th {\n",
       "        text-align: right;\n",
       "    }\n",
       "</style>\n",
       "<table border=\"1\" class=\"dataframe\">\n",
       "  <thead>\n",
       "    <tr style=\"text-align: right;\">\n",
       "      <th></th>\n",
       "      <th>order_id</th>\n",
       "      <th>order_timestamp</th>\n",
       "      <th>delivery_timestamp</th>\n",
       "      <th>distance_km</th>\n",
       "      <th>order_size</th>\n",
       "      <th>restaurant_popularity</th>\n",
       "      <th>weather_conditions</th>\n",
       "      <th>traffic_conditions</th>\n",
       "    </tr>\n",
       "  </thead>\n",
       "  <tbody>\n",
       "    <tr>\n",
       "      <th>0</th>\n",
       "      <td>1</td>\n",
       "      <td>2024-08-01 12:00:00</td>\n",
       "      <td>2024-08-01 12:30:00</td>\n",
       "      <td>5.2</td>\n",
       "      <td>3</td>\n",
       "      <td>4.5</td>\n",
       "      <td>Clear</td>\n",
       "      <td>1</td>\n",
       "    </tr>\n",
       "    <tr>\n",
       "      <th>1</th>\n",
       "      <td>2</td>\n",
       "      <td>2024-08-01 12:05:00</td>\n",
       "      <td>2024-08-01 12:45:00</td>\n",
       "      <td>3.1</td>\n",
       "      <td>2</td>\n",
       "      <td>4.0</td>\n",
       "      <td>Rain</td>\n",
       "      <td>2</td>\n",
       "    </tr>\n",
       "    <tr>\n",
       "      <th>2</th>\n",
       "      <td>3</td>\n",
       "      <td>2024-08-01 12:10:00</td>\n",
       "      <td>2024-08-01 12:20:00</td>\n",
       "      <td>1.5</td>\n",
       "      <td>1</td>\n",
       "      <td>4.8</td>\n",
       "      <td>Clear</td>\n",
       "      <td>1</td>\n",
       "    </tr>\n",
       "    <tr>\n",
       "      <th>3</th>\n",
       "      <td>4</td>\n",
       "      <td>2024-08-01 12:15:00</td>\n",
       "      <td>2024-08-01 12:50:00</td>\n",
       "      <td>4.0</td>\n",
       "      <td>5</td>\n",
       "      <td>3.5</td>\n",
       "      <td>Cloudy</td>\n",
       "      <td>3</td>\n",
       "    </tr>\n",
       "    <tr>\n",
       "      <th>4</th>\n",
       "      <td>5</td>\n",
       "      <td>2024-08-01 12:20:00</td>\n",
       "      <td>2024-08-01 12:35:00</td>\n",
       "      <td>2.8</td>\n",
       "      <td>4</td>\n",
       "      <td>5.0</td>\n",
       "      <td>Clear</td>\n",
       "      <td>1</td>\n",
       "    </tr>\n",
       "    <tr>\n",
       "      <th>5</th>\n",
       "      <td>6</td>\n",
       "      <td>2024-08-01 12:25:00</td>\n",
       "      <td>2024-08-01 12:55:00</td>\n",
       "      <td>6.0</td>\n",
       "      <td>2</td>\n",
       "      <td>4.2</td>\n",
       "      <td>Rain</td>\n",
       "      <td>2</td>\n",
       "    </tr>\n",
       "    <tr>\n",
       "      <th>6</th>\n",
       "      <td>7</td>\n",
       "      <td>2024-08-01 12:30:00</td>\n",
       "      <td>2024-08-01 12:40:00</td>\n",
       "      <td>2.0</td>\n",
       "      <td>1</td>\n",
       "      <td>4.6</td>\n",
       "      <td>Clear</td>\n",
       "      <td>1</td>\n",
       "    </tr>\n",
       "    <tr>\n",
       "      <th>7</th>\n",
       "      <td>8</td>\n",
       "      <td>2024-08-01 12:35:00</td>\n",
       "      <td>2024-08-01 13:05:00</td>\n",
       "      <td>3.5</td>\n",
       "      <td>3</td>\n",
       "      <td>3.8</td>\n",
       "      <td>Fog</td>\n",
       "      <td>3</td>\n",
       "    </tr>\n",
       "    <tr>\n",
       "      <th>8</th>\n",
       "      <td>9</td>\n",
       "      <td>2024-08-01 12:40:00</td>\n",
       "      <td>2024-08-01 12:50:00</td>\n",
       "      <td>1.0</td>\n",
       "      <td>1</td>\n",
       "      <td>4.9</td>\n",
       "      <td>Clear</td>\n",
       "      <td>1</td>\n",
       "    </tr>\n",
       "    <tr>\n",
       "      <th>9</th>\n",
       "      <td>10</td>\n",
       "      <td>2024-08-01 12:45:00</td>\n",
       "      <td>2024-08-01 13:15:00</td>\n",
       "      <td>7.0</td>\n",
       "      <td>6</td>\n",
       "      <td>4.1</td>\n",
       "      <td>Rain</td>\n",
       "      <td>2</td>\n",
       "    </tr>\n",
       "  </tbody>\n",
       "</table>\n",
       "</div>"
      ]
     },
     "execution_count": 4,
     "metadata": {},
     "output_type": "execute_result"
    }
   ],
   "execution_count": 4
  },
  {
   "cell_type": "markdown",
   "id": "6422ae64",
   "metadata": {},
   "source": [
    "# Step 2: Check Data Types\n",
    "---"
   ]
  },
  {
   "cell_type": "code",
   "id": "9f9116b3",
   "metadata": {
    "ExecuteTime": {
     "end_time": "2025-09-27T03:10:44.873011Z",
     "start_time": "2025-09-27T03:10:44.870001Z"
    }
   },
   "source": [
    "data.dtypes"
   ],
   "outputs": [
    {
     "data": {
      "text/plain": [
       "order_id                   int64\n",
       "order_timestamp           object\n",
       "delivery_timestamp        object\n",
       "distance_km              float64\n",
       "order_size                 int64\n",
       "restaurant_popularity    float64\n",
       "weather_conditions        object\n",
       "traffic_conditions         int64\n",
       "dtype: object"
      ]
     },
     "execution_count": 5,
     "metadata": {},
     "output_type": "execute_result"
    }
   ],
   "execution_count": 5
  },
  {
   "cell_type": "markdown",
   "id": "580be440",
   "metadata": {},
   "source": [
    "# Step 3: Change Data Type\n",
    "---"
   ]
  },
  {
   "cell_type": "code",
   "id": "1e4cc7d2",
   "metadata": {
    "ExecuteTime": {
     "end_time": "2025-09-27T03:10:44.924052Z",
     "start_time": "2025-09-27T03:10:44.918473Z"
    }
   },
   "source": [
    "data['order_id'] = data['order_id'] .astype(str)\n",
    "data['order_timestamp'] = pd.to_datetime(data['order_timestamp'])\n",
    "data['delivery_timestamp'] = pd.to_datetime(data['delivery_timestamp'])\n",
    "data['time_to_deliver'] = data.delivery_timestamp - data.order_timestamp"
   ],
   "outputs": [],
   "execution_count": 6
  },
  {
   "cell_type": "markdown",
   "id": "68ac2199",
   "metadata": {},
   "source": [
    "# Step 4: Perform Feature Engineering\n",
    "---\n",
    "1. Create a new feature called \"time to deliver\", the amount of time between order to delivery.\n",
    "2. Label Encode all categorical data."
   ]
  },
  {
   "cell_type": "code",
   "id": "e64b41b2",
   "metadata": {
    "ExecuteTime": {
     "end_time": "2025-09-27T03:10:45.057930Z",
     "start_time": "2025-09-27T03:10:45.054175Z"
    }
   },
   "source": [
    "data2 = data.copy()\n",
    "# Convert 'time_to_deliver' to minutes\n",
    "data2['time_to_deliver'] = pd.to_timedelta(data2['time_to_deliver']).dt.total_seconds() / 60\n",
    "# Encode categorical variables\n",
    "label_encoder = LabelEncoder()\n",
    "data2['weather_conditions'] = label_encoder.fit_transform(data2['weather_conditions'])"
   ],
   "outputs": [],
   "execution_count": 7
  },
  {
   "cell_type": "code",
   "id": "6b0df91a",
   "metadata": {
    "ExecuteTime": {
     "end_time": "2025-09-27T03:10:45.141366Z",
     "start_time": "2025-09-27T03:10:45.131397Z"
    }
   },
   "source": [
    "data2"
   ],
   "outputs": [
    {
     "data": {
      "text/plain": [
       "  order_id     order_timestamp  delivery_timestamp  distance_km  order_size  \\\n",
       "0        1 2024-08-01 12:00:00 2024-08-01 12:30:00          5.2           3   \n",
       "1        2 2024-08-01 12:05:00 2024-08-01 12:45:00          3.1           2   \n",
       "2        3 2024-08-01 12:10:00 2024-08-01 12:20:00          1.5           1   \n",
       "3        4 2024-08-01 12:15:00 2024-08-01 12:50:00          4.0           5   \n",
       "4        5 2024-08-01 12:20:00 2024-08-01 12:35:00          2.8           4   \n",
       "5        6 2024-08-01 12:25:00 2024-08-01 12:55:00          6.0           2   \n",
       "6        7 2024-08-01 12:30:00 2024-08-01 12:40:00          2.0           1   \n",
       "7        8 2024-08-01 12:35:00 2024-08-01 13:05:00          3.5           3   \n",
       "8        9 2024-08-01 12:40:00 2024-08-01 12:50:00          1.0           1   \n",
       "9       10 2024-08-01 12:45:00 2024-08-01 13:15:00          7.0           6   \n",
       "\n",
       "   restaurant_popularity  weather_conditions  traffic_conditions  \\\n",
       "0                    4.5                   0                   1   \n",
       "1                    4.0                   3                   2   \n",
       "2                    4.8                   0                   1   \n",
       "3                    3.5                   1                   3   \n",
       "4                    5.0                   0                   1   \n",
       "5                    4.2                   3                   2   \n",
       "6                    4.6                   0                   1   \n",
       "7                    3.8                   2                   3   \n",
       "8                    4.9                   0                   1   \n",
       "9                    4.1                   3                   2   \n",
       "\n",
       "   time_to_deliver  \n",
       "0             30.0  \n",
       "1             40.0  \n",
       "2             10.0  \n",
       "3             35.0  \n",
       "4             15.0  \n",
       "5             30.0  \n",
       "6             10.0  \n",
       "7             30.0  \n",
       "8             10.0  \n",
       "9             30.0  "
      ],
      "text/html": [
       "<div>\n",
       "<style scoped>\n",
       "    .dataframe tbody tr th:only-of-type {\n",
       "        vertical-align: middle;\n",
       "    }\n",
       "\n",
       "    .dataframe tbody tr th {\n",
       "        vertical-align: top;\n",
       "    }\n",
       "\n",
       "    .dataframe thead th {\n",
       "        text-align: right;\n",
       "    }\n",
       "</style>\n",
       "<table border=\"1\" class=\"dataframe\">\n",
       "  <thead>\n",
       "    <tr style=\"text-align: right;\">\n",
       "      <th></th>\n",
       "      <th>order_id</th>\n",
       "      <th>order_timestamp</th>\n",
       "      <th>delivery_timestamp</th>\n",
       "      <th>distance_km</th>\n",
       "      <th>order_size</th>\n",
       "      <th>restaurant_popularity</th>\n",
       "      <th>weather_conditions</th>\n",
       "      <th>traffic_conditions</th>\n",
       "      <th>time_to_deliver</th>\n",
       "    </tr>\n",
       "  </thead>\n",
       "  <tbody>\n",
       "    <tr>\n",
       "      <th>0</th>\n",
       "      <td>1</td>\n",
       "      <td>2024-08-01 12:00:00</td>\n",
       "      <td>2024-08-01 12:30:00</td>\n",
       "      <td>5.2</td>\n",
       "      <td>3</td>\n",
       "      <td>4.5</td>\n",
       "      <td>0</td>\n",
       "      <td>1</td>\n",
       "      <td>30.0</td>\n",
       "    </tr>\n",
       "    <tr>\n",
       "      <th>1</th>\n",
       "      <td>2</td>\n",
       "      <td>2024-08-01 12:05:00</td>\n",
       "      <td>2024-08-01 12:45:00</td>\n",
       "      <td>3.1</td>\n",
       "      <td>2</td>\n",
       "      <td>4.0</td>\n",
       "      <td>3</td>\n",
       "      <td>2</td>\n",
       "      <td>40.0</td>\n",
       "    </tr>\n",
       "    <tr>\n",
       "      <th>2</th>\n",
       "      <td>3</td>\n",
       "      <td>2024-08-01 12:10:00</td>\n",
       "      <td>2024-08-01 12:20:00</td>\n",
       "      <td>1.5</td>\n",
       "      <td>1</td>\n",
       "      <td>4.8</td>\n",
       "      <td>0</td>\n",
       "      <td>1</td>\n",
       "      <td>10.0</td>\n",
       "    </tr>\n",
       "    <tr>\n",
       "      <th>3</th>\n",
       "      <td>4</td>\n",
       "      <td>2024-08-01 12:15:00</td>\n",
       "      <td>2024-08-01 12:50:00</td>\n",
       "      <td>4.0</td>\n",
       "      <td>5</td>\n",
       "      <td>3.5</td>\n",
       "      <td>1</td>\n",
       "      <td>3</td>\n",
       "      <td>35.0</td>\n",
       "    </tr>\n",
       "    <tr>\n",
       "      <th>4</th>\n",
       "      <td>5</td>\n",
       "      <td>2024-08-01 12:20:00</td>\n",
       "      <td>2024-08-01 12:35:00</td>\n",
       "      <td>2.8</td>\n",
       "      <td>4</td>\n",
       "      <td>5.0</td>\n",
       "      <td>0</td>\n",
       "      <td>1</td>\n",
       "      <td>15.0</td>\n",
       "    </tr>\n",
       "    <tr>\n",
       "      <th>5</th>\n",
       "      <td>6</td>\n",
       "      <td>2024-08-01 12:25:00</td>\n",
       "      <td>2024-08-01 12:55:00</td>\n",
       "      <td>6.0</td>\n",
       "      <td>2</td>\n",
       "      <td>4.2</td>\n",
       "      <td>3</td>\n",
       "      <td>2</td>\n",
       "      <td>30.0</td>\n",
       "    </tr>\n",
       "    <tr>\n",
       "      <th>6</th>\n",
       "      <td>7</td>\n",
       "      <td>2024-08-01 12:30:00</td>\n",
       "      <td>2024-08-01 12:40:00</td>\n",
       "      <td>2.0</td>\n",
       "      <td>1</td>\n",
       "      <td>4.6</td>\n",
       "      <td>0</td>\n",
       "      <td>1</td>\n",
       "      <td>10.0</td>\n",
       "    </tr>\n",
       "    <tr>\n",
       "      <th>7</th>\n",
       "      <td>8</td>\n",
       "      <td>2024-08-01 12:35:00</td>\n",
       "      <td>2024-08-01 13:05:00</td>\n",
       "      <td>3.5</td>\n",
       "      <td>3</td>\n",
       "      <td>3.8</td>\n",
       "      <td>2</td>\n",
       "      <td>3</td>\n",
       "      <td>30.0</td>\n",
       "    </tr>\n",
       "    <tr>\n",
       "      <th>8</th>\n",
       "      <td>9</td>\n",
       "      <td>2024-08-01 12:40:00</td>\n",
       "      <td>2024-08-01 12:50:00</td>\n",
       "      <td>1.0</td>\n",
       "      <td>1</td>\n",
       "      <td>4.9</td>\n",
       "      <td>0</td>\n",
       "      <td>1</td>\n",
       "      <td>10.0</td>\n",
       "    </tr>\n",
       "    <tr>\n",
       "      <th>9</th>\n",
       "      <td>10</td>\n",
       "      <td>2024-08-01 12:45:00</td>\n",
       "      <td>2024-08-01 13:15:00</td>\n",
       "      <td>7.0</td>\n",
       "      <td>6</td>\n",
       "      <td>4.1</td>\n",
       "      <td>3</td>\n",
       "      <td>2</td>\n",
       "      <td>30.0</td>\n",
       "    </tr>\n",
       "  </tbody>\n",
       "</table>\n",
       "</div>"
      ]
     },
     "execution_count": 8,
     "metadata": {},
     "output_type": "execute_result"
    }
   ],
   "execution_count": 8
  },
  {
   "cell_type": "markdown",
   "id": "4894a874",
   "metadata": {},
   "source": [
    " # Step 5: Perform Exploratory Data Analysis\n",
    "---\n",
    "- Distribution Analysis:\n",
    "    1. How frequent do we get orders?\n",
    "    2. How Fast is our delivery time?\n",
    "    3. How far is our customers from their preferred restuarant?\n",
    "    4. How much do our customer order?\n",
    "    5. Where do mostly of the customer buy from?\n",
    "    \n",
    "- Relationship analysis:\n",
    "    6. What is the relationship between Weather Condition, traffic condition and order size?\n",
    "    7. What is the relationship between Weather Condition, traffic condition and delivery time?\n",
    "\n",
    "##### Note: We will not perform correlation analysis at this part as this will be done during the modeling part."
   ]
  },
  {
   "cell_type": "markdown",
   "id": "b389bad9",
   "metadata": {},
   "source": [
    "#### 1. How frequent do we get orders?\n",
    "---\n",
    "- There is no need to graph since it is obvious that we get new orders every 5 minutes"
   ]
  },
  {
   "cell_type": "code",
   "id": "60feda68",
   "metadata": {
    "ExecuteTime": {
     "end_time": "2025-09-27T03:10:45.179338Z",
     "start_time": "2025-09-27T03:10:45.175067Z"
    }
   },
   "source": [
    "pd.to_timedelta(data2.order_timestamp.diff())"
   ],
   "outputs": [
    {
     "data": {
      "text/plain": [
       "0               NaT\n",
       "1   0 days 00:05:00\n",
       "2   0 days 00:05:00\n",
       "3   0 days 00:05:00\n",
       "4   0 days 00:05:00\n",
       "5   0 days 00:05:00\n",
       "6   0 days 00:05:00\n",
       "7   0 days 00:05:00\n",
       "8   0 days 00:05:00\n",
       "9   0 days 00:05:00\n",
       "Name: order_timestamp, dtype: timedelta64[ns]"
      ]
     },
     "execution_count": 9,
     "metadata": {},
     "output_type": "execute_result"
    }
   ],
   "execution_count": 9
  },
  {
   "cell_type": "markdown",
   "id": "79a590b3",
   "metadata": {},
   "source": [
    "#### 2. How Fast is our delivery time?\n",
    "---\n",
    "Most of out drivers travel at 30 minutes to deliver an order."
   ]
  },
  {
   "cell_type": "code",
   "id": "cd4daa91",
   "metadata": {
    "ExecuteTime": {
     "end_time": "2025-09-27T03:10:45.307784Z",
     "start_time": "2025-09-27T03:10:45.232094Z"
    }
   },
   "source": [
    "group_labels = ['Delivery']\n",
    "fig = ff.create_distplot([data2.time_to_deliver], group_labels)\n",
    "fig.show()"
   ],
   "outputs": [
    {
     "data": {
      "text/html": [
       "<iframe\n",
       "    scrolling=\"no\"\n",
       "    width=\"100%\"\n",
       "    height=\"545px\"\n",
       "    src=\"iframe_figures/figure_10.html\"\n",
       "    frameborder=\"0\"\n",
       "    allowfullscreen\n",
       "></iframe>\n"
      ]
     },
     "metadata": {},
     "output_type": "display_data"
    }
   ],
   "execution_count": 10
  },
  {
   "cell_type": "markdown",
   "id": "3a326b5d",
   "metadata": {},
   "source": [
    "#### 3. How far is our customers from their preferred restuarant?\n",
    "---\n",
    "Most of our customers are within the 3 kilometer radius from their preferred restaurant."
   ]
  },
  {
   "cell_type": "code",
   "id": "bbfa10db",
   "metadata": {
    "ExecuteTime": {
     "end_time": "2025-09-27T03:10:45.539734Z",
     "start_time": "2025-09-27T03:10:45.507541Z"
    }
   },
   "source": [
    "group_labels = ['Distance']\n",
    "fig = ff.create_distplot([data2.distance_km], group_labels)\n",
    "fig.show()"
   ],
   "outputs": [
    {
     "data": {
      "text/html": [
       "<iframe\n",
       "    scrolling=\"no\"\n",
       "    width=\"100%\"\n",
       "    height=\"545px\"\n",
       "    src=\"iframe_figures/figure_11.html\"\n",
       "    frameborder=\"0\"\n",
       "    allowfullscreen\n",
       "></iframe>\n"
      ]
     },
     "metadata": {},
     "output_type": "display_data"
    }
   ],
   "execution_count": 11
  },
  {
   "cell_type": "markdown",
   "id": "985eb33c",
   "metadata": {},
   "source": [
    "#### 4. How much do our customer order?\n",
    "---\n",
    "- Our customers usually has an order size of between 2 to 3 products."
   ]
  },
  {
   "cell_type": "code",
   "id": "9dc1c271",
   "metadata": {
    "ExecuteTime": {
     "end_time": "2025-09-27T03:10:45.683313Z",
     "start_time": "2025-09-27T03:10:45.653535Z"
    }
   },
   "source": [
    "group_labels = ['Size']\n",
    "fig = ff.create_distplot([data2.order_size], group_labels)\n",
    "fig.show()"
   ],
   "outputs": [
    {
     "data": {
      "text/html": [
       "<iframe\n",
       "    scrolling=\"no\"\n",
       "    width=\"100%\"\n",
       "    height=\"545px\"\n",
       "    src=\"iframe_figures/figure_12.html\"\n",
       "    frameborder=\"0\"\n",
       "    allowfullscreen\n",
       "></iframe>\n"
      ]
     },
     "metadata": {},
     "output_type": "display_data"
    }
   ],
   "execution_count": 12
  },
  {
   "cell_type": "markdown",
   "id": "5f08828c",
   "metadata": {},
   "source": [
    "#### 6. What is the relationship between Weather Condition, traffic condition and order size?\n",
    "---\n",
    "- Most orders are done during a cloudy day, and less orders are done on a clear day. This is obvious since people tend to buy on a fair weather, and drivers tend not to accept orders during rainy weathers.\n",
    "- Interestingy, orders are high during a cloudy weather and high traffic."
   ]
  },
  {
   "cell_type": "code",
   "id": "395ad50a",
   "metadata": {
    "ExecuteTime": {
     "end_time": "2025-09-27T03:10:45.721561Z",
     "start_time": "2025-09-27T03:10:45.716453Z"
    }
   },
   "source": [
    "rel1 = data[[\"order_size\",\"weather_conditions\",\"traffic_conditions\"]]\n",
    "rel1[\"ave_order_size\"] = rel1.groupby([\"weather_conditions\",\"traffic_conditions\"])[\"order_size\"].transform(\"mean\")\n",
    "rel1 = rel1.drop(\"order_size\", axis=1)"
   ],
   "outputs": [],
   "execution_count": 13
  },
  {
   "cell_type": "code",
   "id": "01981ed6",
   "metadata": {
    "ExecuteTime": {
     "end_time": "2025-09-27T03:10:45.762129Z",
     "start_time": "2025-09-27T03:10:45.742369Z"
    }
   },
   "source": [
    "fig = go.Figure(data=go.Heatmap(\n",
    "                   z=rel1.ave_order_size,\n",
    "                   x=rel1.traffic_conditions,\n",
    "                   y=rel1.weather_conditions,\n",
    "                   hoverongaps = False))\n",
    "fig.show()"
   ],
   "outputs": [
    {
     "data": {
      "text/html": [
       "<iframe\n",
       "    scrolling=\"no\"\n",
       "    width=\"100%\"\n",
       "    height=\"545px\"\n",
       "    src=\"iframe_figures/figure_14.html\"\n",
       "    frameborder=\"0\"\n",
       "    allowfullscreen\n",
       "></iframe>\n"
      ]
     },
     "metadata": {},
     "output_type": "display_data"
    }
   ],
   "execution_count": 14
  },
  {
   "cell_type": "markdown",
   "id": "b79db03b",
   "metadata": {},
   "source": [
    "#### 7. What is the relationship between Weather Condition, traffic condition and delivery time?\n",
    "---\n",
    "- Orders are delayed mostly during a cloudy weather, followed by during rain, lastly during a foggy weather. This might be because people tend to panic to travel home during a cloudy weather to avoid the rain."
   ]
  },
  {
   "cell_type": "code",
   "id": "4a99b95e",
   "metadata": {
    "ExecuteTime": {
     "end_time": "2025-09-27T03:10:45.835794Z",
     "start_time": "2025-09-27T03:10:45.813302Z"
    }
   },
   "source": [
    "rel2_1 = data[[\"order_id\",\"weather_conditions\",\"traffic_conditions\"]]\n",
    "rel2_2 = data2[[\"order_id\",\"traffic_conditions\",\"time_to_deliver\"]]\n",
    "rel2 = pd.merge(rel2_1,rel2_2, how = \"right\", on = [\"order_id\",\"traffic_conditions\"])\n",
    "rel2[\"ave_time_to_deliver\"] = rel2.groupby([\"weather_conditions\",\"traffic_conditions\"])[\"time_to_deliver\"].transform(\"mean\")\n",
    "rel2 = rel2.drop(\"time_to_deliver\", axis=1)"
   ],
   "outputs": [],
   "execution_count": 15
  },
  {
   "cell_type": "code",
   "id": "9e2ffa26",
   "metadata": {
    "ExecuteTime": {
     "end_time": "2025-09-27T03:10:45.885393Z",
     "start_time": "2025-09-27T03:10:45.860048Z"
    }
   },
   "source": [
    "fig = go.Figure(data=go.Heatmap(\n",
    "                   z=rel2.ave_time_to_deliver,\n",
    "                   x=rel2.traffic_conditions,\n",
    "                   y=rel2.weather_conditions,\n",
    "                   hoverongaps = False))\n",
    "fig.show()"
   ],
   "outputs": [
    {
     "data": {
      "text/html": [
       "<iframe\n",
       "    scrolling=\"no\"\n",
       "    width=\"100%\"\n",
       "    height=\"545px\"\n",
       "    src=\"iframe_figures/figure_16.html\"\n",
       "    frameborder=\"0\"\n",
       "    allowfullscreen\n",
       "></iframe>\n"
      ]
     },
     "metadata": {},
     "output_type": "display_data"
    }
   ],
   "execution_count": 16
  },
  {
   "cell_type": "markdown",
   "id": "a9d19079",
   "metadata": {},
   "source": [
    "# Baseline Model: Linear Regression\n",
    "---\n",
    "For the baseline model the standard method is linear regression due to its simplicity, ease of interpretation, and ease of implementation."
   ]
  },
  {
   "cell_type": "code",
   "id": "6457b786",
   "metadata": {
    "ExecuteTime": {
     "end_time": "2025-09-27T03:10:45.931160Z",
     "start_time": "2025-09-27T03:10:45.923282Z"
    }
   },
   "source": [
    "df_reg = data2.drop([\"order_id\",\"order_timestamp\",\"delivery_timestamp\"], axis=1)\n",
    "df_reg"
   ],
   "outputs": [
    {
     "data": {
      "text/plain": [
       "   distance_km  order_size  restaurant_popularity  weather_conditions  \\\n",
       "0          5.2           3                    4.5                   0   \n",
       "1          3.1           2                    4.0                   3   \n",
       "2          1.5           1                    4.8                   0   \n",
       "3          4.0           5                    3.5                   1   \n",
       "4          2.8           4                    5.0                   0   \n",
       "5          6.0           2                    4.2                   3   \n",
       "6          2.0           1                    4.6                   0   \n",
       "7          3.5           3                    3.8                   2   \n",
       "8          1.0           1                    4.9                   0   \n",
       "9          7.0           6                    4.1                   3   \n",
       "\n",
       "   traffic_conditions  time_to_deliver  \n",
       "0                   1             30.0  \n",
       "1                   2             40.0  \n",
       "2                   1             10.0  \n",
       "3                   3             35.0  \n",
       "4                   1             15.0  \n",
       "5                   2             30.0  \n",
       "6                   1             10.0  \n",
       "7                   3             30.0  \n",
       "8                   1             10.0  \n",
       "9                   2             30.0  "
      ],
      "text/html": [
       "<div>\n",
       "<style scoped>\n",
       "    .dataframe tbody tr th:only-of-type {\n",
       "        vertical-align: middle;\n",
       "    }\n",
       "\n",
       "    .dataframe tbody tr th {\n",
       "        vertical-align: top;\n",
       "    }\n",
       "\n",
       "    .dataframe thead th {\n",
       "        text-align: right;\n",
       "    }\n",
       "</style>\n",
       "<table border=\"1\" class=\"dataframe\">\n",
       "  <thead>\n",
       "    <tr style=\"text-align: right;\">\n",
       "      <th></th>\n",
       "      <th>distance_km</th>\n",
       "      <th>order_size</th>\n",
       "      <th>restaurant_popularity</th>\n",
       "      <th>weather_conditions</th>\n",
       "      <th>traffic_conditions</th>\n",
       "      <th>time_to_deliver</th>\n",
       "    </tr>\n",
       "  </thead>\n",
       "  <tbody>\n",
       "    <tr>\n",
       "      <th>0</th>\n",
       "      <td>5.2</td>\n",
       "      <td>3</td>\n",
       "      <td>4.5</td>\n",
       "      <td>0</td>\n",
       "      <td>1</td>\n",
       "      <td>30.0</td>\n",
       "    </tr>\n",
       "    <tr>\n",
       "      <th>1</th>\n",
       "      <td>3.1</td>\n",
       "      <td>2</td>\n",
       "      <td>4.0</td>\n",
       "      <td>3</td>\n",
       "      <td>2</td>\n",
       "      <td>40.0</td>\n",
       "    </tr>\n",
       "    <tr>\n",
       "      <th>2</th>\n",
       "      <td>1.5</td>\n",
       "      <td>1</td>\n",
       "      <td>4.8</td>\n",
       "      <td>0</td>\n",
       "      <td>1</td>\n",
       "      <td>10.0</td>\n",
       "    </tr>\n",
       "    <tr>\n",
       "      <th>3</th>\n",
       "      <td>4.0</td>\n",
       "      <td>5</td>\n",
       "      <td>3.5</td>\n",
       "      <td>1</td>\n",
       "      <td>3</td>\n",
       "      <td>35.0</td>\n",
       "    </tr>\n",
       "    <tr>\n",
       "      <th>4</th>\n",
       "      <td>2.8</td>\n",
       "      <td>4</td>\n",
       "      <td>5.0</td>\n",
       "      <td>0</td>\n",
       "      <td>1</td>\n",
       "      <td>15.0</td>\n",
       "    </tr>\n",
       "    <tr>\n",
       "      <th>5</th>\n",
       "      <td>6.0</td>\n",
       "      <td>2</td>\n",
       "      <td>4.2</td>\n",
       "      <td>3</td>\n",
       "      <td>2</td>\n",
       "      <td>30.0</td>\n",
       "    </tr>\n",
       "    <tr>\n",
       "      <th>6</th>\n",
       "      <td>2.0</td>\n",
       "      <td>1</td>\n",
       "      <td>4.6</td>\n",
       "      <td>0</td>\n",
       "      <td>1</td>\n",
       "      <td>10.0</td>\n",
       "    </tr>\n",
       "    <tr>\n",
       "      <th>7</th>\n",
       "      <td>3.5</td>\n",
       "      <td>3</td>\n",
       "      <td>3.8</td>\n",
       "      <td>2</td>\n",
       "      <td>3</td>\n",
       "      <td>30.0</td>\n",
       "    </tr>\n",
       "    <tr>\n",
       "      <th>8</th>\n",
       "      <td>1.0</td>\n",
       "      <td>1</td>\n",
       "      <td>4.9</td>\n",
       "      <td>0</td>\n",
       "      <td>1</td>\n",
       "      <td>10.0</td>\n",
       "    </tr>\n",
       "    <tr>\n",
       "      <th>9</th>\n",
       "      <td>7.0</td>\n",
       "      <td>6</td>\n",
       "      <td>4.1</td>\n",
       "      <td>3</td>\n",
       "      <td>2</td>\n",
       "      <td>30.0</td>\n",
       "    </tr>\n",
       "  </tbody>\n",
       "</table>\n",
       "</div>"
      ]
     },
     "execution_count": 17,
     "metadata": {},
     "output_type": "execute_result"
    }
   ],
   "execution_count": 17
  },
  {
   "cell_type": "markdown",
   "id": "b9f36294",
   "metadata": {},
   "source": [
    "### 1. Correlation Analysis\n",
    "---\n",
    "\"Not all models are created equal\"\n",
    "\n",
    "For linear models it is necessary to remove highly correlated variables due to the following reasons:\n",
    "\n",
    "1. Unstable Estimates of Coefficients:\n",
    "\n",
    "    - When predictor variables are highly correlated, it becomes difficult for the linear model to determine the individual effect of each predictor on the response variable. This leads to unstable estimates of the regression coefficients, which can vary widely with small changes in the data.\n",
    "\n",
    "2. Inflated Standard Errors:\n",
    "\n",
    "    - Multicollinearity increases the standard errors of the estimated coefficients, making the model less reliable. This means that even if a variable is actually relevant, the model might fail to identify it as statistically significant due to the inflated standard error.\n",
    "\n",
    "\n",
    "3. Difficulty in Interpreting Coefficients:\n",
    "\n",
    "     - In a linear model, coefficients represent the change in the response variable for a one-unit change in the predictor, holding all other variables constant. When variables are highly correlated, this interpretation becomes meaningless because it’s not possible to change one predictor without changing the other.\n",
    "\n",
    "4. Reduced Predictive Power:\n",
    "\n",
    "    - Although multicollinearity does not always impact the predictive ability of the model on the training data, it can negatively affect the model's generalization to new data. This is because the model relies on relationships that may not hold outside the training dataset.\n",
    "    \n",
    "Correlation coefficients between 0.7 to 1.0 are considered highly correlated\n",
    "\n",
    "#### Analysis\n",
    "---\n",
    "- Weather conditions and traffic are strongly correlated to the dependent variable, time to deliver. This indicates that these two variables have a strong linear relationship with the delivery time and are might therefore good predictors.\n",
    "\n",
    "- Restaurant popularity is strongly, but negatively, correlated with traffic conditions, indicating that these two predictors convey the same information. For this experiment, restaurant popularity will be removed."
   ]
  },
  {
   "cell_type": "code",
   "id": "a50fbb29",
   "metadata": {
    "ExecuteTime": {
     "end_time": "2025-09-27T03:10:46.002184Z",
     "start_time": "2025-09-27T03:10:45.960132Z"
    }
   },
   "source": [
    "# calculate the correlation matrix on the numeric columns\n",
    "corr = df_reg.select_dtypes('number').corr()\n",
    "\n",
    "cmap = sns.diverging_palette(5, 250, as_cmap=True)\n",
    "\n",
    "def magnify():\n",
    "    return [dict(selector=\"th\",\n",
    "                 props=[(\"font-size\", \"7pt\")]),\n",
    "            dict(selector=\"td\",\n",
    "                 props=[('padding', \"0em 0em\")]),\n",
    "            dict(selector=\"th:hover\",\n",
    "                 props=[(\"font-size\", \"12pt\")]),\n",
    "            dict(selector=\"tr:hover td:hover\",\n",
    "                 props=[('max-width', '200px'),\n",
    "                        ('font-size', '12pt')])\n",
    "]\n",
    "\n",
    "corr.style.background_gradient(cmap, axis=1)\\\n",
    "    .format(precision=3)\\\n",
    "    .set_properties(**{'max-width': '80px', 'font-size': '10pt'})\\\n",
    "    .set_caption(\"Correlation Coefficient\")\\\n",
    "    .set_table_styles(magnify())"
   ],
   "outputs": [
    {
     "data": {
      "text/plain": [
       "<pandas.io.formats.style.Styler at 0x104ec4990>"
      ],
      "text/html": [
       "<style type=\"text/css\">\n",
       "#T_fbda2 th {\n",
       "  font-size: 7pt;\n",
       "}\n",
       "#T_fbda2 td {\n",
       "  padding: 0em 0em;\n",
       "}\n",
       "#T_fbda2 th:hover {\n",
       "  font-size: 12pt;\n",
       "}\n",
       "#T_fbda2 tr:hover td:hover {\n",
       "  max-width: 200px;\n",
       "  font-size: 12pt;\n",
       "}\n",
       "#T_fbda2_row0_col0, #T_fbda2_row1_col1, #T_fbda2_row2_col2, #T_fbda2_row3_col3, #T_fbda2_row4_col4, #T_fbda2_row5_col5 {\n",
       "  background-color: #4479bb;\n",
       "  color: #f1f1f1;\n",
       "  max-width: 80px;\n",
       "  font-size: 10pt;\n",
       "}\n",
       "#T_fbda2_row0_col1, #T_fbda2_row1_col0 {\n",
       "  background-color: #8eadd3;\n",
       "  color: #f1f1f1;\n",
       "  max-width: 80px;\n",
       "  font-size: 10pt;\n",
       "}\n",
       "#T_fbda2_row0_col2, #T_fbda2_row1_col2, #T_fbda2_row2_col4, #T_fbda2_row3_col2, #T_fbda2_row4_col2, #T_fbda2_row5_col2 {\n",
       "  background-color: #d73c5b;\n",
       "  color: #f1f1f1;\n",
       "  max-width: 80px;\n",
       "  font-size: 10pt;\n",
       "}\n",
       "#T_fbda2_row0_col3 {\n",
       "  background-color: #95b1d5;\n",
       "  color: #000000;\n",
       "  max-width: 80px;\n",
       "  font-size: 10pt;\n",
       "}\n",
       "#T_fbda2_row0_col4 {\n",
       "  background-color: #cfdae7;\n",
       "  color: #000000;\n",
       "  max-width: 80px;\n",
       "  font-size: 10pt;\n",
       "}\n",
       "#T_fbda2_row0_col5, #T_fbda2_row3_col4 {\n",
       "  background-color: #90aed3;\n",
       "  color: #f1f1f1;\n",
       "  max-width: 80px;\n",
       "  font-size: 10pt;\n",
       "}\n",
       "#T_fbda2_row1_col3 {\n",
       "  background-color: #dfe5ed;\n",
       "  color: #000000;\n",
       "  max-width: 80px;\n",
       "  font-size: 10pt;\n",
       "}\n",
       "#T_fbda2_row1_col4 {\n",
       "  background-color: #bacbe1;\n",
       "  color: #000000;\n",
       "  max-width: 80px;\n",
       "  font-size: 10pt;\n",
       "}\n",
       "#T_fbda2_row1_col5 {\n",
       "  background-color: #b5c8df;\n",
       "  color: #000000;\n",
       "  max-width: 80px;\n",
       "  font-size: 10pt;\n",
       "}\n",
       "#T_fbda2_row2_col0 {\n",
       "  background-color: #e48e9f;\n",
       "  color: #f1f1f1;\n",
       "  max-width: 80px;\n",
       "  font-size: 10pt;\n",
       "}\n",
       "#T_fbda2_row2_col1 {\n",
       "  background-color: #e491a1;\n",
       "  color: #f1f1f1;\n",
       "  max-width: 80px;\n",
       "  font-size: 10pt;\n",
       "}\n",
       "#T_fbda2_row2_col3 {\n",
       "  background-color: #df7288;\n",
       "  color: #f1f1f1;\n",
       "  max-width: 80px;\n",
       "  font-size: 10pt;\n",
       "}\n",
       "#T_fbda2_row2_col5 {\n",
       "  background-color: #da506b;\n",
       "  color: #f1f1f1;\n",
       "  max-width: 80px;\n",
       "  font-size: 10pt;\n",
       "}\n",
       "#T_fbda2_row3_col0 {\n",
       "  background-color: #8dacd2;\n",
       "  color: #f1f1f1;\n",
       "  max-width: 80px;\n",
       "  font-size: 10pt;\n",
       "}\n",
       "#T_fbda2_row3_col1 {\n",
       "  background-color: #d0dae8;\n",
       "  color: #000000;\n",
       "  max-width: 80px;\n",
       "  font-size: 10pt;\n",
       "}\n",
       "#T_fbda2_row3_col5 {\n",
       "  background-color: #7a9fcc;\n",
       "  color: #f1f1f1;\n",
       "  max-width: 80px;\n",
       "  font-size: 10pt;\n",
       "}\n",
       "#T_fbda2_row4_col0 {\n",
       "  background-color: #b0c4dd;\n",
       "  color: #000000;\n",
       "  max-width: 80px;\n",
       "  font-size: 10pt;\n",
       "}\n",
       "#T_fbda2_row4_col1 {\n",
       "  background-color: #9eb8d8;\n",
       "  color: #000000;\n",
       "  max-width: 80px;\n",
       "  font-size: 10pt;\n",
       "}\n",
       "#T_fbda2_row4_col3 {\n",
       "  background-color: #84a5cf;\n",
       "  color: #f1f1f1;\n",
       "  max-width: 80px;\n",
       "  font-size: 10pt;\n",
       "}\n",
       "#T_fbda2_row4_col5 {\n",
       "  background-color: #739aca;\n",
       "  color: #f1f1f1;\n",
       "  max-width: 80px;\n",
       "  font-size: 10pt;\n",
       "}\n",
       "#T_fbda2_row5_col0 {\n",
       "  background-color: #82a4cf;\n",
       "  color: #f1f1f1;\n",
       "  max-width: 80px;\n",
       "  font-size: 10pt;\n",
       "}\n",
       "#T_fbda2_row5_col1 {\n",
       "  background-color: #9fb8d8;\n",
       "  color: #000000;\n",
       "  max-width: 80px;\n",
       "  font-size: 10pt;\n",
       "}\n",
       "#T_fbda2_row5_col3 {\n",
       "  background-color: #759bca;\n",
       "  color: #f1f1f1;\n",
       "  max-width: 80px;\n",
       "  font-size: 10pt;\n",
       "}\n",
       "#T_fbda2_row5_col4 {\n",
       "  background-color: #779dcb;\n",
       "  color: #f1f1f1;\n",
       "  max-width: 80px;\n",
       "  font-size: 10pt;\n",
       "}\n",
       "</style>\n",
       "<table id=\"T_fbda2\">\n",
       "  <caption>Correlation Coefficient</caption>\n",
       "  <thead>\n",
       "    <tr>\n",
       "      <th class=\"blank level0\" >&nbsp;</th>\n",
       "      <th id=\"T_fbda2_level0_col0\" class=\"col_heading level0 col0\" >distance_km</th>\n",
       "      <th id=\"T_fbda2_level0_col1\" class=\"col_heading level0 col1\" >order_size</th>\n",
       "      <th id=\"T_fbda2_level0_col2\" class=\"col_heading level0 col2\" >restaurant_popularity</th>\n",
       "      <th id=\"T_fbda2_level0_col3\" class=\"col_heading level0 col3\" >weather_conditions</th>\n",
       "      <th id=\"T_fbda2_level0_col4\" class=\"col_heading level0 col4\" >traffic_conditions</th>\n",
       "      <th id=\"T_fbda2_level0_col5\" class=\"col_heading level0 col5\" >time_to_deliver</th>\n",
       "    </tr>\n",
       "  </thead>\n",
       "  <tbody>\n",
       "    <tr>\n",
       "      <th id=\"T_fbda2_level0_row0\" class=\"row_heading level0 row0\" >distance_km</th>\n",
       "      <td id=\"T_fbda2_row0_col0\" class=\"data row0 col0\" >1.000</td>\n",
       "      <td id=\"T_fbda2_row0_col1\" class=\"data row0 col1\" >0.676</td>\n",
       "      <td id=\"T_fbda2_row0_col2\" class=\"data row0 col2\" >-0.496</td>\n",
       "      <td id=\"T_fbda2_row0_col3\" class=\"data row0 col3\" >0.647</td>\n",
       "      <td id=\"T_fbda2_row0_col4\" class=\"data row0 col4\" >0.401</td>\n",
       "      <td id=\"T_fbda2_row0_col5\" class=\"data row0 col5\" >0.668</td>\n",
       "    </tr>\n",
       "    <tr>\n",
       "      <th id=\"T_fbda2_level0_row1\" class=\"row_heading level0 row1\" >order_size</th>\n",
       "      <td id=\"T_fbda2_row1_col0\" class=\"data row1 col0\" >0.676</td>\n",
       "      <td id=\"T_fbda2_row1_col1\" class=\"data row1 col1\" >1.000</td>\n",
       "      <td id=\"T_fbda2_row1_col2\" class=\"data row1 col2\" >-0.485</td>\n",
       "      <td id=\"T_fbda2_row1_col3\" class=\"data row1 col3\" >0.336</td>\n",
       "      <td id=\"T_fbda2_row1_col4\" class=\"data row1 col4\" >0.493</td>\n",
       "      <td id=\"T_fbda2_row1_col5\" class=\"data row1 col5\" >0.513</td>\n",
       "    </tr>\n",
       "    <tr>\n",
       "      <th id=\"T_fbda2_level0_row2\" class=\"row_heading level0 row2\" >restaurant_popularity</th>\n",
       "      <td id=\"T_fbda2_row2_col0\" class=\"data row2 col0\" >-0.496</td>\n",
       "      <td id=\"T_fbda2_row2_col1\" class=\"data row2 col1\" >-0.485</td>\n",
       "      <td id=\"T_fbda2_row2_col2\" class=\"data row2 col2\" >1.000</td>\n",
       "      <td id=\"T_fbda2_row2_col3\" class=\"data row2 col3\" >-0.649</td>\n",
       "      <td id=\"T_fbda2_row2_col4\" class=\"data row2 col4\" >-0.941</td>\n",
       "      <td id=\"T_fbda2_row2_col5\" class=\"data row2 col5\" >-0.834</td>\n",
       "    </tr>\n",
       "    <tr>\n",
       "      <th id=\"T_fbda2_level0_row3\" class=\"row_heading level0 row3\" >weather_conditions</th>\n",
       "      <td id=\"T_fbda2_row3_col0\" class=\"data row3 col0\" >0.647</td>\n",
       "      <td id=\"T_fbda2_row3_col1\" class=\"data row3 col1\" >0.336</td>\n",
       "      <td id=\"T_fbda2_row3_col2\" class=\"data row3 col2\" >-0.649</td>\n",
       "      <td id=\"T_fbda2_row3_col3\" class=\"data row3 col3\" >1.000</td>\n",
       "      <td id=\"T_fbda2_row3_col4\" class=\"data row3 col4\" >0.637</td>\n",
       "      <td id=\"T_fbda2_row3_col5\" class=\"data row3 col5\" >0.739</td>\n",
       "    </tr>\n",
       "    <tr>\n",
       "      <th id=\"T_fbda2_level0_row4\" class=\"row_heading level0 row4\" >traffic_conditions</th>\n",
       "      <td id=\"T_fbda2_row4_col0\" class=\"data row4 col0\" >0.401</td>\n",
       "      <td id=\"T_fbda2_row4_col1\" class=\"data row4 col1\" >0.493</td>\n",
       "      <td id=\"T_fbda2_row4_col2\" class=\"data row4 col2\" >-0.941</td>\n",
       "      <td id=\"T_fbda2_row4_col3\" class=\"data row4 col3\" >0.637</td>\n",
       "      <td id=\"T_fbda2_row4_col4\" class=\"data row4 col4\" >1.000</td>\n",
       "      <td id=\"T_fbda2_row4_col5\" class=\"data row4 col5\" >0.728</td>\n",
       "    </tr>\n",
       "    <tr>\n",
       "      <th id=\"T_fbda2_level0_row5\" class=\"row_heading level0 row5\" >time_to_deliver</th>\n",
       "      <td id=\"T_fbda2_row5_col0\" class=\"data row5 col0\" >0.668</td>\n",
       "      <td id=\"T_fbda2_row5_col1\" class=\"data row5 col1\" >0.513</td>\n",
       "      <td id=\"T_fbda2_row5_col2\" class=\"data row5 col2\" >-0.834</td>\n",
       "      <td id=\"T_fbda2_row5_col3\" class=\"data row5 col3\" >0.739</td>\n",
       "      <td id=\"T_fbda2_row5_col4\" class=\"data row5 col4\" >0.728</td>\n",
       "      <td id=\"T_fbda2_row5_col5\" class=\"data row5 col5\" >1.000</td>\n",
       "    </tr>\n",
       "  </tbody>\n",
       "</table>\n"
      ]
     },
     "execution_count": 18,
     "metadata": {},
     "output_type": "execute_result"
    }
   ],
   "execution_count": 18
  },
  {
   "cell_type": "code",
   "id": "de86162a",
   "metadata": {
    "ExecuteTime": {
     "end_time": "2025-09-27T03:47:58.665008Z",
     "start_time": "2025-09-27T03:47:58.645359Z"
    }
   },
   "source": [
    "# Separate features and target variable\n",
    "X_reg1 = df_reg.drop(columns=['time_to_deliver','restaurant_popularity'])\n",
    "y_reg1 = df_reg['time_to_deliver']\n",
    "# Split the data\n",
    "X_train_reg1, X_test_reg1, y_train_reg1, y_test_reg1 = train_test_split(X_reg1, y_reg1, test_size=0.2, random_state=42)"
   ],
   "outputs": [],
   "execution_count": 62
  },
  {
   "metadata": {
    "ExecuteTime": {
     "end_time": "2025-09-27T03:47:59.084316Z",
     "start_time": "2025-09-27T03:47:59.065620Z"
    }
   },
   "cell_type": "code",
   "source": [
    "# Define the dependent and independent variables\n",
    "X = X_reg1[['distance_km','weather_conditions', 'traffic_conditions']]\n",
    "y = y_reg1\n",
    "\n",
    "# Add a constant term for the intercept\n",
    "X = sm.add_constant(X)\n",
    "\n",
    "# Fit the model\n",
    "model = sm.OLS(y, X).fit()\n",
    "# print('Model RMSE: ', root_mean_squared_error(y_reg2, model.predict(X_reg2)))\n",
    "print(\"\\nFinal model summary:\")\n",
    "print(model.summary())"
   ],
   "id": "f714fa15",
   "outputs": [
    {
     "name": "stdout",
     "output_type": "stream",
     "text": [
      "\n",
      "Final model summary:\n",
      "                            OLS Regression Results                            \n",
      "==============================================================================\n",
      "Dep. Variable:        time_to_deliver   R-squared:                       0.722\n",
      "Model:                            OLS   Adj. R-squared:                  0.584\n",
      "Method:                 Least Squares   F-statistic:                     5.205\n",
      "Date:                Sat, 27 Sep 2025   Prob (F-statistic):             0.0416\n",
      "Time:                        11:47:59   Log-Likelihood:                -31.677\n",
      "No. Observations:                  10   AIC:                             71.35\n",
      "Df Residuals:                       6   BIC:                             72.56\n",
      "Df Model:                           3                                         \n",
      "Covariance Type:            nonrobust                                         \n",
      "======================================================================================\n",
      "                         coef    std err          t      P>|t|      [0.025      0.975]\n",
      "--------------------------------------------------------------------------------------\n",
      "const                  4.1204      7.203      0.572      0.588     -13.504      21.745\n",
      "distance_km            1.9565      1.653      1.184      0.281      -2.088       6.001\n",
      "weather_conditions     2.0073      2.757      0.728      0.494      -4.739       8.753\n",
      "traffic_conditions     6.1222      3.898      1.571      0.167      -3.416      15.660\n",
      "==============================================================================\n",
      "Omnibus:                        3.431   Durbin-Watson:                   0.894\n",
      "Prob(Omnibus):                  0.180   Jarque-Bera (JB):                1.898\n",
      "Skew:                           1.049   Prob(JB):                        0.387\n",
      "Kurtosis:                       2.610   Cond. No.                         16.1\n",
      "==============================================================================\n",
      "\n",
      "Notes:\n",
      "[1] Standard Errors assume that the covariance matrix of the errors is correctly specified.\n"
     ]
    }
   ],
   "execution_count": 63
  },
  {
   "metadata": {},
   "cell_type": "markdown",
   "source": [
    "### 2. Feature Selection: Bacward Elimination\n",
    "---\n",
    "- The linear model starts with the entire variables and individually remove each variables based on a level of significance. In this experiment the order size does not significantly contribute to the prediction model.\n",
    "- distance, weather condition, and traffic condition have statistically signicant levels indicating that these are good predictors of the outcome.\n",
    "- This experiment validates the correlation analysis above, as can be seen that the order size is only mildly correlated to the outcome with a value of 0.513.\n",
    "- The regression line is almost perfectly linear with an adjusted $R^2$ of 0.944.\n",
    "- However, the number of sample is not enough to check for the impact of kurtosis (the shape of the data distribution), since linear regression models are heavily dependent on the normality assumption."
   ],
   "id": "2b87eb3e"
  },
  {
   "metadata": {
    "ExecuteTime": {
     "end_time": "2025-09-27T04:06:38.641277Z",
     "start_time": "2025-09-27T04:06:38.621009Z"
    }
   },
   "cell_type": "code",
   "source": [
    "# Backward elimination function\n",
    "def backward_elimination(X, y, significance_level=0.05):\n",
    "    features = list(X.columns)\n",
    "    while len(features) > 0:\n",
    "        X_with_constant = add_constant(X[features])\n",
    "        model = sm.OLS(y, X_with_constant).fit()\n",
    "        pvalues = model.pvalues.iloc[1:]  # Skip the intercept's p-value\n",
    "        max_pval = pvalues.max()\n",
    "\n",
    "        if max_pval > significance_level:\n",
    "            # Remove the feature with the highest p-value\n",
    "            worst_feature = pvalues.idxmax()\n",
    "            features.remove(worst_feature)\n",
    "            print(f\"Removed feature: {worst_feature}, p-value: {max_pval}\")\n",
    "        else:\n",
    "            break\n",
    "\n",
    "    # Fit the final model with remaining features\n",
    "    final_model = sm.OLS(y, add_constant(X[features])).fit()\n",
    "    return final_model, features\n",
    "\n",
    "# Run backward elimination on the training data\n",
    "final_model, selected_features = backward_elimination(X_train_reg1, y_train_reg1)\n",
    "\n",
    "# Print the summary of the final model\n",
    "print(\"\\nFinal model summary:\")\n",
    "print(final_model.summary())\n",
    "\n",
    "# Print the remaining features after backward elimination\n",
    "print(\"\\nSelected features after backward elimination:\")\n",
    "print(selected_features)"
   ],
   "id": "2ef169d7",
   "outputs": [
    {
     "name": "stdout",
     "output_type": "stream",
     "text": [
      "Removed feature: order_size, p-value: 0.13250797065731543\n",
      "\n",
      "Final model summary:\n",
      "                            OLS Regression Results                            \n",
      "==============================================================================\n",
      "Dep. Variable:        time_to_deliver   R-squared:                       0.968\n",
      "Model:                            OLS   Adj. R-squared:                  0.944\n",
      "Method:                 Least Squares   F-statistic:                     40.47\n",
      "Date:                Sat, 27 Sep 2025   Prob (F-statistic):            0.00189\n",
      "Time:                        12:06:38   Log-Likelihood:                -15.666\n",
      "No. Observations:                   8   AIC:                             39.33\n",
      "Df Residuals:                       4   BIC:                             39.65\n",
      "Df Model:                           3                                         \n",
      "Covariance Type:            nonrobust                                         \n",
      "======================================================================================\n",
      "                         coef    std err          t      P>|t|      [0.025      0.975]\n",
      "--------------------------------------------------------------------------------------\n",
      "const                 -7.9010      3.312     -2.385      0.076     -17.098       1.296\n",
      "distance_km            5.1378      0.756      6.795      0.002       3.039       7.237\n",
      "weather_conditions    -4.6293      1.306     -3.544      0.024      -8.256      -1.003\n",
      "traffic_conditions     9.3187      1.378      6.763      0.002       5.493      13.144\n",
      "==============================================================================\n",
      "Omnibus:                        1.074   Durbin-Watson:                   0.805\n",
      "Prob(Omnibus):                  0.585   Jarque-Bera (JB):                0.620\n",
      "Skew:                          -0.174   Prob(JB):                        0.733\n",
      "Kurtosis:                       1.681   Cond. No.                         21.3\n",
      "==============================================================================\n",
      "\n",
      "Notes:\n",
      "[1] Standard Errors assume that the covariance matrix of the errors is correctly specified.\n",
      "\n",
      "Selected features after backward elimination:\n",
      "['distance_km', 'weather_conditions', 'traffic_conditions']\n"
     ]
    }
   ],
   "execution_count": 92
  },
  {
   "cell_type": "markdown",
   "id": "7c158397",
   "metadata": {},
   "source": [
    "### 3. K-Fold Validation\n",
    "---\n",
    "- To create a more robust overview of the model given the different variability of the data a k-fold corss validation is conducted, root mean squared error is used as the performance metric."
   ]
  },
  {
   "cell_type": "code",
   "id": "f726503a",
   "metadata": {
    "ExecuteTime": {
     "end_time": "2025-09-27T04:06:40.608979Z",
     "start_time": "2025-09-27T04:06:40.589981Z"
    }
   },
   "source": [
    "# Separate features and target variable\n",
    "X = df_reg[['distance_km','weather_conditions', 'traffic_conditions']]\n",
    "y = df_reg['time_to_deliver']\n",
    "\n",
    "# Initialize KFold\n",
    "kf = KFold(n_splits=5, shuffle=True, random_state=42)\n",
    "\n",
    "# Store the MSE values for each fold\n",
    "rmse_values = []\n",
    "\n",
    "# Perform the K-Fold Cross-Validation\n",
    "for train_index, test_index in kf.split(X):\n",
    "    X_train, X_test = X.iloc[train_index], X.iloc[test_index]\n",
    "    y_train, y_test = y.iloc[train_index], y.iloc[test_index]\n",
    "    \n",
    "    # Fit the model on the training set\n",
    "    model = sm.OLS(y_train, sm.add_constant(X_train)).fit()\n",
    "    \n",
    "    # Make predictions on the test set\n",
    "    y_pred = model.predict(sm.add_constant(X_test))\n",
    "    \n",
    "    # Calculate the mean squared error\n",
    "    rmse = root_mean_squared_error(y_test, y_pred)\n",
    "    rmse_values.append(rmse)\n",
    "\n",
    "# Output the mean MSE over the folds\n",
    "print(f\"Mean RMSE: {np.mean(rmse_values)} minutes\")"
   ],
   "outputs": [
    {
     "name": "stdout",
     "output_type": "stream",
     "text": [
      "Mean RMSE: 10.855879544964612 minutes\n"
     ]
    }
   ],
   "execution_count": 93
  },
  {
   "cell_type": "markdown",
   "id": "12b087f4",
   "metadata": {},
   "source": [
    "# Proposed Model: XGBOOST\n",
    "---\n",
    "\n",
    "#### Why XGBOOST?\n",
    "---\n",
    "- XGBoost (Extreme Gradient Boosting) is an advanced implementation of the gradient boosting algorithm, which is designed for speed and performance. It builds an ensemble of decision trees in a sequential manner to improve predictive accuracy, and each tree tries to correct the errors of the previous ones. Key features of XGBoost include:\n",
    "\n",
    "- Regularization: It uses both L1 (Lasso) and L2 (Ridge) regularization to prevent overfitting, making it robust to noisy data.\n",
    "\n",
    "- Tree Pruning: XGBoost employs a technique called \"max depth\" pruning, where it starts with a full tree and prunes unnecessary branches.\n",
    "\n",
    "- Handling Missing Values: It can natively handle missing values in the dataset by learning which path to take based on the observed values.\n",
    "\n",
    "- Parallelization: The algorithm supports parallel computation, making it faster than other boosting methods.\n",
    "\n",
    "- Custom Loss Functions: XGBoost allows for user-defined objective functions for specific use cases.\n",
    "\n",
    "\n",
    "#### Insensitivity to Correlated Variables\n",
    "---\n",
    "- XGBoost, like other tree-based algorithms, is generally less sensitive to multicollinearity (correlated variables) compared to linear models. The decision tree structure allows it to handle correlated features without significantly degrading performance."
   ]
  },
  {
   "cell_type": "code",
   "id": "0b3a34bf",
   "metadata": {
    "ExecuteTime": {
     "end_time": "2025-09-27T04:06:41.599706Z",
     "start_time": "2025-09-27T04:06:41.594053Z"
    }
   },
   "source": [
    "# Separate features and target variable\n",
    "df = df_reg.copy()\n",
    "X = df.drop(columns=['time_to_deliver'])\n",
    "y = df['time_to_deliver']\n",
    "# Split the data\n",
    "X_train, X_test, y_train, y_test = train_test_split(X, y, test_size=0.2, random_state=42)"
   ],
   "outputs": [],
   "execution_count": 94
  },
  {
   "cell_type": "code",
   "id": "faf41f87",
   "metadata": {
    "ExecuteTime": {
     "end_time": "2025-09-27T04:06:42.682579Z",
     "start_time": "2025-09-27T04:06:42.679057Z"
    }
   },
   "source": "X_train.columns",
   "outputs": [
    {
     "data": {
      "text/plain": [
       "Index(['distance_km', 'order_size', 'restaurant_popularity',\n",
       "       'weather_conditions', 'traffic_conditions'],\n",
       "      dtype='object')"
      ]
     },
     "execution_count": 95,
     "metadata": {},
     "output_type": "execute_result"
    }
   ],
   "execution_count": 95
  },
  {
   "cell_type": "markdown",
   "id": "3165bfd9",
   "metadata": {},
   "source": [
    "### Step 1: Fine tuning the model\n",
    "---\n",
    "- XGBoost tend to have multiple parameters to tune, to find the optimal parameters Parzan Tree is used, with RMSE as the performance metric."
   ]
  },
  {
   "cell_type": "code",
   "id": "80fd04f1",
   "metadata": {
    "ExecuteTime": {
     "end_time": "2025-09-27T04:08:44.369878Z",
     "start_time": "2025-09-27T04:08:44.366589Z"
    }
   },
   "source": [
    "def objective(trial):\n",
    "    # Define the hyperparameters to tune\n",
    "    param = {\n",
    "        'n_estimators': trial.suggest_int('n_estimators', 50, 500),\n",
    "        'max_depth': trial.suggest_int('max_depth', 3, 10),\n",
    "        'learning_rate': trial.suggest_loguniform('learning_rate', 0.01, 0.3),\n",
    "        'subsample': trial.suggest_float('subsample', 0.5, 1.0),\n",
    "        'colsample_bytree': trial.suggest_float('colsample_bytree', 0.5, 1.0),\n",
    "        'gamma': trial.suggest_float('gamma', 0, 5),\n",
    "        'lambda': trial.suggest_float('lambda', 1e-3, 10.0),\n",
    "        'alpha': trial.suggest_float('alpha', 1e-3, 10.0)\n",
    "    }\n",
    "\n",
    "    # Train the XGBoost model\n",
    "    model = xgb.XGBRegressor(**param)\n",
    "    model.fit(X_train, y_train)\n",
    "\n",
    "    # Predict on the validation set\n",
    "    y_pred = model.predict(X_test)\n",
    "\n",
    "    # Calculate the RMSE\n",
    "    rmse = root_mean_squared_error(y_test, y_pred)\n",
    "\n",
    "    return rmse"
   ],
   "outputs": [],
   "execution_count": 102
  },
  {
   "cell_type": "code",
   "id": "2c130824",
   "metadata": {
    "ExecuteTime": {
     "end_time": "2025-09-27T04:10:07.638086Z",
     "start_time": "2025-09-27T04:10:02.652356Z"
    }
   },
   "source": [
    "# Create a study to minimize the RMSE\n",
    "study = optuna.create_study(direction='minimize')\n",
    "study.optimize(objective, n_trials=50)  # You can increase n_trials for a more exhaustive search\n",
    "\n",
    "# Print the best hyperparameters\n",
    "print(\"Best Hyperparameters:\", study.best_params)"
   ],
   "outputs": [
    {
     "name": "stderr",
     "output_type": "stream",
     "text": [
      "[I 2025-09-27 12:10:02,653] A new study created in memory with name: no-name-b1dbe0be-6fcc-408c-9ba8-124644faf1c8\n",
      "/var/folders/jd/rmzvvh4s2jzg55h334m9_q040000gn/T/ipykernel_73630/1744136363.py:6: FutureWarning:\n",
      "\n",
      "suggest_loguniform has been deprecated in v3.0.0. This feature will be removed in v6.0.0. See https://github.com/optuna/optuna/releases/tag/v3.0.0. Use suggest_float(..., log=True) instead.\n",
      "\n",
      "[I 2025-09-27 12:10:02,779] Trial 0 finished with value: 13.085301135714149 and parameters: {'n_estimators': 437, 'max_depth': 5, 'learning_rate': 0.19029770010799685, 'subsample': 0.5881794612252329, 'colsample_bytree': 0.7196417203785759, 'gamma': 1.0115715569781663, 'lambda': 6.045954744486665, 'alpha': 9.211397162988545}. Best is trial 0 with value: 13.085301135714149.\n",
      "/var/folders/jd/rmzvvh4s2jzg55h334m9_q040000gn/T/ipykernel_73630/1744136363.py:6: FutureWarning:\n",
      "\n",
      "suggest_loguniform has been deprecated in v3.0.0. This feature will be removed in v6.0.0. See https://github.com/optuna/optuna/releases/tag/v3.0.0. Use suggest_float(..., log=True) instead.\n",
      "\n",
      "[I 2025-09-27 12:10:02,813] Trial 1 finished with value: 11.918405249982465 and parameters: {'n_estimators': 100, 'max_depth': 9, 'learning_rate': 0.24871773229983843, 'subsample': 0.6534308087332446, 'colsample_bytree': 0.5232675706911578, 'gamma': 1.4676009458781052, 'lambda': 3.9160476662314476, 'alpha': 3.113663530028297}. Best is trial 1 with value: 11.918405249982465.\n",
      "/var/folders/jd/rmzvvh4s2jzg55h334m9_q040000gn/T/ipykernel_73630/1744136363.py:6: FutureWarning:\n",
      "\n",
      "suggest_loguniform has been deprecated in v3.0.0. This feature will be removed in v6.0.0. See https://github.com/optuna/optuna/releases/tag/v3.0.0. Use suggest_float(..., log=True) instead.\n",
      "\n",
      "[I 2025-09-27 12:10:02,912] Trial 2 finished with value: 12.87951052850845 and parameters: {'n_estimators': 367, 'max_depth': 4, 'learning_rate': 0.19321931994133823, 'subsample': 0.5631002866607254, 'colsample_bytree': 0.6839427915501638, 'gamma': 2.24479463762314, 'lambda': 9.3794258161043, 'alpha': 6.847813924406773}. Best is trial 1 with value: 11.918405249982465.\n",
      "/var/folders/jd/rmzvvh4s2jzg55h334m9_q040000gn/T/ipykernel_73630/1744136363.py:6: FutureWarning:\n",
      "\n",
      "suggest_loguniform has been deprecated in v3.0.0. This feature will be removed in v6.0.0. See https://github.com/optuna/optuna/releases/tag/v3.0.0. Use suggest_float(..., log=True) instead.\n",
      "\n",
      "[I 2025-09-27 12:10:03,063] Trial 3 finished with value: 13.905249824445885 and parameters: {'n_estimators': 469, 'max_depth': 6, 'learning_rate': 0.035066608091860255, 'subsample': 0.670501053581258, 'colsample_bytree': 0.8075054121330826, 'gamma': 3.3050680376578563, 'lambda': 9.071957661658827, 'alpha': 8.263981862506482}. Best is trial 1 with value: 11.918405249982465.\n",
      "/var/folders/jd/rmzvvh4s2jzg55h334m9_q040000gn/T/ipykernel_73630/1744136363.py:6: FutureWarning:\n",
      "\n",
      "suggest_loguniform has been deprecated in v3.0.0. This feature will be removed in v6.0.0. See https://github.com/optuna/optuna/releases/tag/v3.0.0. Use suggest_float(..., log=True) instead.\n",
      "\n",
      "[I 2025-09-27 12:10:03,160] Trial 4 finished with value: 12.305865735117859 and parameters: {'n_estimators': 297, 'max_depth': 9, 'learning_rate': 0.05015611834400832, 'subsample': 0.661435403496258, 'colsample_bytree': 0.6714259905069062, 'gamma': 4.910860968242944, 'lambda': 9.11360453742433, 'alpha': 4.6316324041098165}. Best is trial 1 with value: 11.918405249982465.\n",
      "/var/folders/jd/rmzvvh4s2jzg55h334m9_q040000gn/T/ipykernel_73630/1744136363.py:6: FutureWarning:\n",
      "\n",
      "suggest_loguniform has been deprecated in v3.0.0. This feature will be removed in v6.0.0. See https://github.com/optuna/optuna/releases/tag/v3.0.0. Use suggest_float(..., log=True) instead.\n",
      "\n",
      "[I 2025-09-27 12:10:03,270] Trial 5 finished with value: 15.150157516590005 and parameters: {'n_estimators': 318, 'max_depth': 7, 'learning_rate': 0.06137134357746214, 'subsample': 0.9362981153240617, 'colsample_bytree': 0.8025872884871351, 'gamma': 0.3936321562751277, 'lambda': 8.362682734586206, 'alpha': 2.6810108620873443}. Best is trial 1 with value: 11.918405249982465.\n",
      "/var/folders/jd/rmzvvh4s2jzg55h334m9_q040000gn/T/ipykernel_73630/1744136363.py:6: FutureWarning:\n",
      "\n",
      "suggest_loguniform has been deprecated in v3.0.0. This feature will be removed in v6.0.0. See https://github.com/optuna/optuna/releases/tag/v3.0.0. Use suggest_float(..., log=True) instead.\n",
      "\n",
      "[I 2025-09-27 12:10:03,317] Trial 6 finished with value: 13.84383267611544 and parameters: {'n_estimators': 114, 'max_depth': 9, 'learning_rate': 0.01203307259807597, 'subsample': 0.7176060926003762, 'colsample_bytree': 0.9294185883933233, 'gamma': 0.9653050515579137, 'lambda': 3.7479258164611737, 'alpha': 3.1614769451845546}. Best is trial 1 with value: 11.918405249982465.\n",
      "/var/folders/jd/rmzvvh4s2jzg55h334m9_q040000gn/T/ipykernel_73630/1744136363.py:6: FutureWarning:\n",
      "\n",
      "suggest_loguniform has been deprecated in v3.0.0. This feature will be removed in v6.0.0. See https://github.com/optuna/optuna/releases/tag/v3.0.0. Use suggest_float(..., log=True) instead.\n",
      "\n",
      "[I 2025-09-27 12:10:03,440] Trial 7 finished with value: 12.430382838393447 and parameters: {'n_estimators': 437, 'max_depth': 9, 'learning_rate': 0.06933978602573251, 'subsample': 0.9264679003766616, 'colsample_bytree': 0.5725084025761007, 'gamma': 3.491278553937131, 'lambda': 9.002921990099262, 'alpha': 4.481000590251921}. Best is trial 1 with value: 11.918405249982465.\n",
      "/var/folders/jd/rmzvvh4s2jzg55h334m9_q040000gn/T/ipykernel_73630/1744136363.py:6: FutureWarning:\n",
      "\n",
      "suggest_loguniform has been deprecated in v3.0.0. This feature will be removed in v6.0.0. See https://github.com/optuna/optuna/releases/tag/v3.0.0. Use suggest_float(..., log=True) instead.\n",
      "\n",
      "[I 2025-09-27 12:10:03,561] Trial 8 finished with value: 13.331044189879757 and parameters: {'n_estimators': 490, 'max_depth': 7, 'learning_rate': 0.08744321531273164, 'subsample': 0.7876431012429526, 'colsample_bytree': 0.6139186357672353, 'gamma': 2.1078520607424793, 'lambda': 0.5245201197006404, 'alpha': 9.974424886077166}. Best is trial 1 with value: 11.918405249982465.\n",
      "/var/folders/jd/rmzvvh4s2jzg55h334m9_q040000gn/T/ipykernel_73630/1744136363.py:6: FutureWarning:\n",
      "\n",
      "suggest_loguniform has been deprecated in v3.0.0. This feature will be removed in v6.0.0. See https://github.com/optuna/optuna/releases/tag/v3.0.0. Use suggest_float(..., log=True) instead.\n",
      "\n",
      "[I 2025-09-27 12:10:03,658] Trial 9 finished with value: 14.023863231165562 and parameters: {'n_estimators': 318, 'max_depth': 5, 'learning_rate': 0.09244311074974416, 'subsample': 0.7050088393241232, 'colsample_bytree': 0.9632875393984086, 'gamma': 0.2455310691096929, 'lambda': 4.82868395661507, 'alpha': 5.554748275908218}. Best is trial 1 with value: 11.918405249982465.\n",
      "/var/folders/jd/rmzvvh4s2jzg55h334m9_q040000gn/T/ipykernel_73630/1744136363.py:6: FutureWarning:\n",
      "\n",
      "suggest_loguniform has been deprecated in v3.0.0. This feature will be removed in v6.0.0. See https://github.com/optuna/optuna/releases/tag/v3.0.0. Use suggest_float(..., log=True) instead.\n",
      "\n",
      "[I 2025-09-27 12:10:03,690] Trial 10 finished with value: 12.408345497745865 and parameters: {'n_estimators': 72, 'max_depth': 10, 'learning_rate': 0.2794280522714344, 'subsample': 0.8245884744901738, 'colsample_bytree': 0.5005282670219876, 'gamma': 1.6718646174477128, 'lambda': 1.4598711751181397, 'alpha': 0.23007425031386441}. Best is trial 1 with value: 11.918405249982465.\n",
      "/var/folders/jd/rmzvvh4s2jzg55h334m9_q040000gn/T/ipykernel_73630/1744136363.py:6: FutureWarning:\n",
      "\n",
      "suggest_loguniform has been deprecated in v3.0.0. This feature will be removed in v6.0.0. See https://github.com/optuna/optuna/releases/tag/v3.0.0. Use suggest_float(..., log=True) instead.\n",
      "\n",
      "[I 2025-09-27 12:10:03,780] Trial 11 finished with value: 10.975432074291687 and parameters: {'n_estimators': 211, 'max_depth': 8, 'learning_rate': 0.026160738423448546, 'subsample': 0.6380424944583318, 'colsample_bytree': 0.5033303125073358, 'gamma': 4.964475035211759, 'lambda': 6.557412432281485, 'alpha': 2.1644258885988057}. Best is trial 11 with value: 10.975432074291687.\n",
      "/var/folders/jd/rmzvvh4s2jzg55h334m9_q040000gn/T/ipykernel_73630/1744136363.py:6: FutureWarning:\n",
      "\n",
      "suggest_loguniform has been deprecated in v3.0.0. This feature will be removed in v6.0.0. See https://github.com/optuna/optuna/releases/tag/v3.0.0. Use suggest_float(..., log=True) instead.\n",
      "\n",
      "[I 2025-09-27 12:10:03,860] Trial 12 finished with value: 11.664892725069784 and parameters: {'n_estimators': 187, 'max_depth': 8, 'learning_rate': 0.019081809598054753, 'subsample': 0.5180592954992262, 'colsample_bytree': 0.5139847904831379, 'gamma': 4.682645602198316, 'lambda': 6.7120093964922996, 'alpha': 0.8782469308478054}. Best is trial 11 with value: 10.975432074291687.\n",
      "/var/folders/jd/rmzvvh4s2jzg55h334m9_q040000gn/T/ipykernel_73630/1744136363.py:6: FutureWarning:\n",
      "\n",
      "suggest_loguniform has been deprecated in v3.0.0. This feature will be removed in v6.0.0. See https://github.com/optuna/optuna/releases/tag/v3.0.0. Use suggest_float(..., log=True) instead.\n",
      "\n",
      "[I 2025-09-27 12:10:03,944] Trial 13 finished with value: 12.039791779150045 and parameters: {'n_estimators': 193, 'max_depth': 8, 'learning_rate': 0.017420202590978918, 'subsample': 0.5372334250302299, 'colsample_bytree': 0.6066910810384221, 'gamma': 4.879135447786294, 'lambda': 6.818502823122437, 'alpha': 0.5872767302009783}. Best is trial 11 with value: 10.975432074291687.\n",
      "/var/folders/jd/rmzvvh4s2jzg55h334m9_q040000gn/T/ipykernel_73630/1744136363.py:6: FutureWarning:\n",
      "\n",
      "suggest_loguniform has been deprecated in v3.0.0. This feature will be removed in v6.0.0. See https://github.com/optuna/optuna/releases/tag/v3.0.0. Use suggest_float(..., log=True) instead.\n",
      "\n",
      "[I 2025-09-27 12:10:04,028] Trial 14 finished with value: 11.16730723956316 and parameters: {'n_estimators': 199, 'max_depth': 8, 'learning_rate': 0.024678068730233746, 'subsample': 0.5017508946982251, 'colsample_bytree': 0.5325073433076842, 'gamma': 4.0527051544692885, 'lambda': 7.1975951608675075, 'alpha': 1.6777727508754083}. Best is trial 11 with value: 10.975432074291687.\n",
      "/var/folders/jd/rmzvvh4s2jzg55h334m9_q040000gn/T/ipykernel_73630/1744136363.py:6: FutureWarning:\n",
      "\n",
      "suggest_loguniform has been deprecated in v3.0.0. This feature will be removed in v6.0.0. See https://github.com/optuna/optuna/releases/tag/v3.0.0. Use suggest_float(..., log=True) instead.\n",
      "\n",
      "[I 2025-09-27 12:10:04,110] Trial 15 finished with value: 11.165896646863162 and parameters: {'n_estimators': 181, 'max_depth': 6, 'learning_rate': 0.028876331739890196, 'subsample': 0.5993267701889492, 'colsample_bytree': 0.5864077293648369, 'gamma': 4.129797708466187, 'lambda': 7.446274902329722, 'alpha': 1.9316352856419288}. Best is trial 11 with value: 10.975432074291687.\n",
      "/var/folders/jd/rmzvvh4s2jzg55h334m9_q040000gn/T/ipykernel_73630/1744136363.py:6: FutureWarning:\n",
      "\n",
      "suggest_loguniform has been deprecated in v3.0.0. This feature will be removed in v6.0.0. See https://github.com/optuna/optuna/releases/tag/v3.0.0. Use suggest_float(..., log=True) instead.\n",
      "\n",
      "[I 2025-09-27 12:10:04,214] Trial 16 finished with value: 11.627491833338889 and parameters: {'n_estimators': 245, 'max_depth': 6, 'learning_rate': 0.02884436043144081, 'subsample': 0.6103175213160013, 'colsample_bytree': 0.6335144258384391, 'gamma': 4.068717078432912, 'lambda': 5.326278156120671, 'alpha': 1.7153985652193717}. Best is trial 11 with value: 10.975432074291687.\n",
      "/var/folders/jd/rmzvvh4s2jzg55h334m9_q040000gn/T/ipykernel_73630/1744136363.py:6: FutureWarning:\n",
      "\n",
      "suggest_loguniform has been deprecated in v3.0.0. This feature will be removed in v6.0.0. See https://github.com/optuna/optuna/releases/tag/v3.0.0. Use suggest_float(..., log=True) instead.\n",
      "\n",
      "[I 2025-09-27 12:10:04,279] Trial 17 finished with value: 12.065085054322646 and parameters: {'n_estimators': 138, 'max_depth': 3, 'learning_rate': 0.041517572879325636, 'subsample': 0.8608233407288223, 'colsample_bytree': 0.5644784531523783, 'gamma': 3.4855377746621587, 'lambda': 7.603880191636909, 'alpha': 2.1500844636789602}. Best is trial 11 with value: 10.975432074291687.\n",
      "/var/folders/jd/rmzvvh4s2jzg55h334m9_q040000gn/T/ipykernel_73630/1744136363.py:6: FutureWarning:\n",
      "\n",
      "suggest_loguniform has been deprecated in v3.0.0. This feature will be removed in v6.0.0. See https://github.com/optuna/optuna/releases/tag/v3.0.0. Use suggest_float(..., log=True) instead.\n",
      "\n",
      "[I 2025-09-27 12:10:04,381] Trial 18 finished with value: 13.180994847653706 and parameters: {'n_estimators': 242, 'max_depth': 5, 'learning_rate': 0.01039659588035695, 'subsample': 0.6134543735409379, 'colsample_bytree': 0.9000809289091585, 'gamma': 3.0097854721497748, 'lambda': 2.4559991108496977, 'alpha': 3.7704066364533384}. Best is trial 11 with value: 10.975432074291687.\n",
      "/var/folders/jd/rmzvvh4s2jzg55h334m9_q040000gn/T/ipykernel_73630/1744136363.py:6: FutureWarning:\n",
      "\n",
      "suggest_loguniform has been deprecated in v3.0.0. This feature will be removed in v6.0.0. See https://github.com/optuna/optuna/releases/tag/v3.0.0. Use suggest_float(..., log=True) instead.\n",
      "\n",
      "[I 2025-09-27 12:10:04,452] Trial 19 finished with value: 13.391149908551467 and parameters: {'n_estimators': 152, 'max_depth': 7, 'learning_rate': 0.016047039476650562, 'subsample': 0.7478592303511017, 'colsample_bytree': 0.7815263968152464, 'gamma': 4.210032124629339, 'lambda': 8.036504815343603, 'alpha': 5.963210327650739}. Best is trial 11 with value: 10.975432074291687.\n",
      "/var/folders/jd/rmzvvh4s2jzg55h334m9_q040000gn/T/ipykernel_73630/1744136363.py:6: FutureWarning:\n",
      "\n",
      "suggest_loguniform has been deprecated in v3.0.0. This feature will be removed in v6.0.0. See https://github.com/optuna/optuna/releases/tag/v3.0.0. Use suggest_float(..., log=True) instead.\n",
      "\n",
      "[I 2025-09-27 12:10:04,567] Trial 20 finished with value: 12.421909177084547 and parameters: {'n_estimators': 257, 'max_depth': 6, 'learning_rate': 0.027689488488707063, 'subsample': 0.9916997789106258, 'colsample_bytree': 0.5643587994385856, 'gamma': 2.7276925502336757, 'lambda': 5.723757130099738, 'alpha': 1.2692946302425223}. Best is trial 11 with value: 10.975432074291687.\n",
      "/var/folders/jd/rmzvvh4s2jzg55h334m9_q040000gn/T/ipykernel_73630/1744136363.py:6: FutureWarning:\n",
      "\n",
      "suggest_loguniform has been deprecated in v3.0.0. This feature will be removed in v6.0.0. See https://github.com/optuna/optuna/releases/tag/v3.0.0. Use suggest_float(..., log=True) instead.\n",
      "\n",
      "[I 2025-09-27 12:10:04,654] Trial 21 finished with value: 11.333402058689494 and parameters: {'n_estimators': 198, 'max_depth': 8, 'learning_rate': 0.025118880572746735, 'subsample': 0.5099815075716043, 'colsample_bytree': 0.5427505548511687, 'gamma': 4.073184081178364, 'lambda': 7.294069171237988, 'alpha': 2.024371816397223}. Best is trial 11 with value: 10.975432074291687.\n",
      "/var/folders/jd/rmzvvh4s2jzg55h334m9_q040000gn/T/ipykernel_73630/1744136363.py:6: FutureWarning:\n",
      "\n",
      "suggest_loguniform has been deprecated in v3.0.0. This feature will be removed in v6.0.0. See https://github.com/optuna/optuna/releases/tag/v3.0.0. Use suggest_float(..., log=True) instead.\n",
      "\n",
      "[I 2025-09-27 12:10:04,746] Trial 22 finished with value: 12.038573892559391 and parameters: {'n_estimators': 217, 'max_depth': 8, 'learning_rate': 0.021946233843229097, 'subsample': 0.5610015715717274, 'colsample_bytree': 0.6379104570701587, 'gamma': 4.338184053411033, 'lambda': 6.455998295375602, 'alpha': 3.7401572650191}. Best is trial 11 with value: 10.975432074291687.\n",
      "/var/folders/jd/rmzvvh4s2jzg55h334m9_q040000gn/T/ipykernel_73630/1744136363.py:6: FutureWarning:\n",
      "\n",
      "suggest_loguniform has been deprecated in v3.0.0. This feature will be removed in v6.0.0. See https://github.com/optuna/optuna/releases/tag/v3.0.0. Use suggest_float(..., log=True) instead.\n",
      "\n",
      "[I 2025-09-27 12:10:04,813] Trial 23 finished with value: 11.146725968575186 and parameters: {'n_estimators': 141, 'max_depth': 10, 'learning_rate': 0.03722583013682762, 'subsample': 0.6263607377316458, 'colsample_bytree': 0.5926829534007638, 'gamma': 3.8793986712820026, 'lambda': 8.10234489930302, 'alpha': 0.18425712692248664}. Best is trial 11 with value: 10.975432074291687.\n",
      "/var/folders/jd/rmzvvh4s2jzg55h334m9_q040000gn/T/ipykernel_73630/1744136363.py:6: FutureWarning:\n",
      "\n",
      "suggest_loguniform has been deprecated in v3.0.0. This feature will be removed in v6.0.0. See https://github.com/optuna/optuna/releases/tag/v3.0.0. Use suggest_float(..., log=True) instead.\n",
      "\n",
      "[I 2025-09-27 12:10:04,884] Trial 24 finished with value: 11.07122866669581 and parameters: {'n_estimators': 157, 'max_depth': 10, 'learning_rate': 0.040394567705653646, 'subsample': 0.6330479088654251, 'colsample_bytree': 0.5892137484724531, 'gamma': 3.7318590246049634, 'lambda': 9.90345691182237, 'alpha': 0.3068591959951308}. Best is trial 11 with value: 10.975432074291687.\n",
      "/var/folders/jd/rmzvvh4s2jzg55h334m9_q040000gn/T/ipykernel_73630/1744136363.py:6: FutureWarning:\n",
      "\n",
      "suggest_loguniform has been deprecated in v3.0.0. This feature will be removed in v6.0.0. See https://github.com/optuna/optuna/releases/tag/v3.0.0. Use suggest_float(..., log=True) instead.\n",
      "\n",
      "[I 2025-09-27 12:10:04,921] Trial 25 finished with value: 13.055920383809198 and parameters: {'n_estimators': 68, 'max_depth': 10, 'learning_rate': 0.04094430163566533, 'subsample': 0.6405440548771374, 'colsample_bytree': 0.6869144093319592, 'gamma': 3.6906668206344104, 'lambda': 9.95925817906095, 'alpha': 0.25805182860209364}. Best is trial 11 with value: 10.975432074291687.\n",
      "/var/folders/jd/rmzvvh4s2jzg55h334m9_q040000gn/T/ipykernel_73630/1744136363.py:6: FutureWarning:\n",
      "\n",
      "suggest_loguniform has been deprecated in v3.0.0. This feature will be removed in v6.0.0. See https://github.com/optuna/optuna/releases/tag/v3.0.0. Use suggest_float(..., log=True) instead.\n",
      "\n",
      "[I 2025-09-27 12:10:04,983] Trial 26 finished with value: 12.444616888591884 and parameters: {'n_estimators': 150, 'max_depth': 10, 'learning_rate': 0.09772563674615493, 'subsample': 0.6872803497246296, 'colsample_bytree': 0.7475909127789937, 'gamma': 4.559026125371556, 'lambda': 9.898932734929158, 'alpha': 0.910791100614414}. Best is trial 11 with value: 10.975432074291687.\n",
      "/var/folders/jd/rmzvvh4s2jzg55h334m9_q040000gn/T/ipykernel_73630/1744136363.py:6: FutureWarning:\n",
      "\n",
      "suggest_loguniform has been deprecated in v3.0.0. This feature will be removed in v6.0.0. See https://github.com/optuna/optuna/releases/tag/v3.0.0. Use suggest_float(..., log=True) instead.\n",
      "\n",
      "[I 2025-09-27 12:10:05,043] Trial 27 finished with value: 12.399517778275827 and parameters: {'n_estimators': 124, 'max_depth': 10, 'learning_rate': 0.05140179161530333, 'subsample': 0.7392809097036165, 'colsample_bytree': 0.638265709403238, 'gamma': 3.0712648712040957, 'lambda': 8.393693930614383, 'alpha': 0.08726276764546326}. Best is trial 11 with value: 10.975432074291687.\n",
      "/var/folders/jd/rmzvvh4s2jzg55h334m9_q040000gn/T/ipykernel_73630/1744136363.py:6: FutureWarning:\n",
      "\n",
      "suggest_loguniform has been deprecated in v3.0.0. This feature will be removed in v6.0.0. See https://github.com/optuna/optuna/releases/tag/v3.0.0. Use suggest_float(..., log=True) instead.\n",
      "\n",
      "[I 2025-09-27 12:10:05,091] Trial 28 finished with value: 13.989364351477816 and parameters: {'n_estimators': 88, 'max_depth': 9, 'learning_rate': 0.01404475546605127, 'subsample': 0.7815411599205501, 'colsample_bytree': 0.8552996933574377, 'gamma': 3.623734799046885, 'lambda': 4.602562638463266, 'alpha': 1.0983351861369703}. Best is trial 11 with value: 10.975432074291687.\n",
      "/var/folders/jd/rmzvvh4s2jzg55h334m9_q040000gn/T/ipykernel_73630/1744136363.py:6: FutureWarning:\n",
      "\n",
      "suggest_loguniform has been deprecated in v3.0.0. This feature will be removed in v6.0.0. See https://github.com/optuna/optuna/releases/tag/v3.0.0. Use suggest_float(..., log=True) instead.\n",
      "\n",
      "[I 2025-09-27 12:10:05,157] Trial 29 finished with value: 12.200220725245126 and parameters: {'n_estimators': 170, 'max_depth': 10, 'learning_rate': 0.12645596860469072, 'subsample': 0.5730704213352246, 'colsample_bytree': 0.7303545631051285, 'gamma': 4.992552365401241, 'lambda': 8.4199691847093, 'alpha': 2.8809967129639364}. Best is trial 11 with value: 10.975432074291687.\n",
      "/var/folders/jd/rmzvvh4s2jzg55h334m9_q040000gn/T/ipykernel_73630/1744136363.py:6: FutureWarning:\n",
      "\n",
      "suggest_loguniform has been deprecated in v3.0.0. This feature will be removed in v6.0.0. See https://github.com/optuna/optuna/releases/tag/v3.0.0. Use suggest_float(..., log=True) instead.\n",
      "\n",
      "[I 2025-09-27 12:10:05,249] Trial 30 finished with value: 11.623731334228534 and parameters: {'n_estimators': 227, 'max_depth': 9, 'learning_rate': 0.03767333961350491, 'subsample': 0.6331713689510935, 'colsample_bytree': 0.5945688858142139, 'gamma': 2.747551889111737, 'lambda': 6.445284144726166, 'alpha': 7.60433239354621}. Best is trial 11 with value: 10.975432074291687.\n",
      "/var/folders/jd/rmzvvh4s2jzg55h334m9_q040000gn/T/ipykernel_73630/1744136363.py:6: FutureWarning:\n",
      "\n",
      "suggest_loguniform has been deprecated in v3.0.0. This feature will be removed in v6.0.0. See https://github.com/optuna/optuna/releases/tag/v3.0.0. Use suggest_float(..., log=True) instead.\n",
      "\n",
      "[I 2025-09-27 12:10:05,324] Trial 31 finished with value: 11.190025542423312 and parameters: {'n_estimators': 163, 'max_depth': 4, 'learning_rate': 0.031792412034802285, 'subsample': 0.5969011215238778, 'colsample_bytree': 0.5849357441307503, 'gamma': 3.8088658885914555, 'lambda': 7.8312693178736605, 'alpha': 1.3483265307225665}. Best is trial 11 with value: 10.975432074291687.\n",
      "/var/folders/jd/rmzvvh4s2jzg55h334m9_q040000gn/T/ipykernel_73630/1744136363.py:6: FutureWarning:\n",
      "\n",
      "suggest_loguniform has been deprecated in v3.0.0. This feature will be removed in v6.0.0. See https://github.com/optuna/optuna/releases/tag/v3.0.0. Use suggest_float(..., log=True) instead.\n",
      "\n",
      "[I 2025-09-27 12:10:05,439] Trial 32 finished with value: 10.798079506338667 and parameters: {'n_estimators': 270, 'max_depth': 7, 'learning_rate': 0.020677053100807013, 'subsample': 0.626531493266001, 'colsample_bytree': 0.5358629333292518, 'gamma': 4.399888193192006, 'lambda': 5.882961152181815, 'alpha': 2.5053905417153737}. Best is trial 32 with value: 10.798079506338667.\n",
      "/var/folders/jd/rmzvvh4s2jzg55h334m9_q040000gn/T/ipykernel_73630/1744136363.py:6: FutureWarning:\n",
      "\n",
      "suggest_loguniform has been deprecated in v3.0.0. This feature will be removed in v6.0.0. See https://github.com/optuna/optuna/releases/tag/v3.0.0. Use suggest_float(..., log=True) instead.\n",
      "\n",
      "[I 2025-09-27 12:10:05,556] Trial 33 finished with value: 10.710275620484536 and parameters: {'n_estimators': 285, 'max_depth': 7, 'learning_rate': 0.021354477159285488, 'subsample': 0.6432831830450241, 'colsample_bytree': 0.5447486697611413, 'gamma': 4.487033179783025, 'lambda': 5.750418647105777, 'alpha': 2.4340031467687604}. Best is trial 33 with value: 10.710275620484536.\n",
      "/var/folders/jd/rmzvvh4s2jzg55h334m9_q040000gn/T/ipykernel_73630/1744136363.py:6: FutureWarning:\n",
      "\n",
      "suggest_loguniform has been deprecated in v3.0.0. This feature will be removed in v6.0.0. See https://github.com/optuna/optuna/releases/tag/v3.0.0. Use suggest_float(..., log=True) instead.\n",
      "\n",
      "[I 2025-09-27 12:10:05,671] Trial 34 finished with value: 10.858258414702409 and parameters: {'n_estimators': 279, 'max_depth': 7, 'learning_rate': 0.020242384897134744, 'subsample': 0.6769345090065044, 'colsample_bytree': 0.5368196882300612, 'gamma': 4.538391994312864, 'lambda': 3.686779664697185, 'alpha': 2.5523564451102936}. Best is trial 33 with value: 10.710275620484536.\n",
      "/var/folders/jd/rmzvvh4s2jzg55h334m9_q040000gn/T/ipykernel_73630/1744136363.py:6: FutureWarning:\n",
      "\n",
      "suggest_loguniform has been deprecated in v3.0.0. This feature will be removed in v6.0.0. See https://github.com/optuna/optuna/releases/tag/v3.0.0. Use suggest_float(..., log=True) instead.\n",
      "\n",
      "[I 2025-09-27 12:10:05,807] Trial 35 finished with value: 10.8982776293365 and parameters: {'n_estimators': 364, 'max_depth': 7, 'learning_rate': 0.021615602917335705, 'subsample': 0.6660902625132267, 'colsample_bytree': 0.5408971977413605, 'gamma': 4.453102052111942, 'lambda': 3.6535014222767823, 'alpha': 3.756224670156955}. Best is trial 33 with value: 10.710275620484536.\n",
      "/var/folders/jd/rmzvvh4s2jzg55h334m9_q040000gn/T/ipykernel_73630/1744136363.py:6: FutureWarning:\n",
      "\n",
      "suggest_loguniform has been deprecated in v3.0.0. This feature will be removed in v6.0.0. See https://github.com/optuna/optuna/releases/tag/v3.0.0. Use suggest_float(..., log=True) instead.\n",
      "\n",
      "[I 2025-09-27 12:10:05,956] Trial 36 finished with value: 10.980357061578582 and parameters: {'n_estimators': 365, 'max_depth': 7, 'learning_rate': 0.019706477085966213, 'subsample': 0.6743050115519071, 'colsample_bytree': 0.5419502009255192, 'gamma': 4.502291283696845, 'lambda': 3.411828244696005, 'alpha': 3.8784357582393527}. Best is trial 33 with value: 10.710275620484536.\n",
      "/var/folders/jd/rmzvvh4s2jzg55h334m9_q040000gn/T/ipykernel_73630/1744136363.py:6: FutureWarning:\n",
      "\n",
      "suggest_loguniform has been deprecated in v3.0.0. This feature will be removed in v6.0.0. See https://github.com/optuna/optuna/releases/tag/v3.0.0. Use suggest_float(..., log=True) instead.\n",
      "\n",
      "[I 2025-09-27 12:10:06,104] Trial 37 finished with value: 12.157038516293388 and parameters: {'n_estimators': 362, 'max_depth': 7, 'learning_rate': 0.014425955957086685, 'subsample': 0.7080445485219695, 'colsample_bytree': 0.6788224113353399, 'gamma': 4.489537338393591, 'lambda': 4.333467729503633, 'alpha': 3.272801607063061}. Best is trial 33 with value: 10.710275620484536.\n",
      "/var/folders/jd/rmzvvh4s2jzg55h334m9_q040000gn/T/ipykernel_73630/1744136363.py:6: FutureWarning:\n",
      "\n",
      "suggest_loguniform has been deprecated in v3.0.0. This feature will be removed in v6.0.0. See https://github.com/optuna/optuna/releases/tag/v3.0.0. Use suggest_float(..., log=True) instead.\n",
      "\n",
      "[I 2025-09-27 12:10:06,223] Trial 38 finished with value: 11.204583166080408 and parameters: {'n_estimators': 287, 'max_depth': 6, 'learning_rate': 0.013083411448901745, 'subsample': 0.6639610065945093, 'colsample_bytree': 0.5418206152930902, 'gamma': 4.698499999323311, 'lambda': 3.0459658914963317, 'alpha': 4.572289022542976}. Best is trial 33 with value: 10.710275620484536.\n",
      "/var/folders/jd/rmzvvh4s2jzg55h334m9_q040000gn/T/ipykernel_73630/1744136363.py:6: FutureWarning:\n",
      "\n",
      "suggest_loguniform has been deprecated in v3.0.0. This feature will be removed in v6.0.0. See https://github.com/optuna/optuna/releases/tag/v3.0.0. Use suggest_float(..., log=True) instead.\n",
      "\n",
      "[I 2025-09-27 12:10:06,369] Trial 39 finished with value: 11.123115006219331 and parameters: {'n_estimators': 399, 'max_depth': 7, 'learning_rate': 0.021659781366616965, 'subsample': 0.6856200696383019, 'colsample_bytree': 0.559436949993224, 'gamma': 4.279815723806405, 'lambda': 2.4720946801426633, 'alpha': 2.7238989039647934}. Best is trial 33 with value: 10.710275620484536.\n",
      "/var/folders/jd/rmzvvh4s2jzg55h334m9_q040000gn/T/ipykernel_73630/1744136363.py:6: FutureWarning:\n",
      "\n",
      "suggest_loguniform has been deprecated in v3.0.0. This feature will be removed in v6.0.0. See https://github.com/optuna/optuna/releases/tag/v3.0.0. Use suggest_float(..., log=True) instead.\n",
      "\n",
      "[I 2025-09-27 12:10:06,512] Trial 40 finished with value: 12.407931355535855 and parameters: {'n_estimators': 337, 'max_depth': 5, 'learning_rate': 0.010239439809527948, 'subsample': 0.574850057124481, 'colsample_bytree': 0.7071753801337386, 'gamma': 0.7641225071280595, 'lambda': 5.405308678149439, 'alpha': 5.170438935792292}. Best is trial 33 with value: 10.710275620484536.\n",
      "/var/folders/jd/rmzvvh4s2jzg55h334m9_q040000gn/T/ipykernel_73630/1744136363.py:6: FutureWarning:\n",
      "\n",
      "suggest_loguniform has been deprecated in v3.0.0. This feature will be removed in v6.0.0. See https://github.com/optuna/optuna/releases/tag/v3.0.0. Use suggest_float(..., log=True) instead.\n",
      "\n",
      "[I 2025-09-27 12:10:06,628] Trial 41 finished with value: 11.126644215079855 and parameters: {'n_estimators': 272, 'max_depth': 8, 'learning_rate': 0.01653461798731121, 'subsample': 0.6513398514759613, 'colsample_bytree': 0.507938723028545, 'gamma': 4.80041519537723, 'lambda': 6.090663517423937, 'alpha': 2.5783157229627687}. Best is trial 33 with value: 10.710275620484536.\n",
      "/var/folders/jd/rmzvvh4s2jzg55h334m9_q040000gn/T/ipykernel_73630/1744136363.py:6: FutureWarning:\n",
      "\n",
      "suggest_loguniform has been deprecated in v3.0.0. This feature will be removed in v6.0.0. See https://github.com/optuna/optuna/releases/tag/v3.0.0. Use suggest_float(..., log=True) instead.\n",
      "\n",
      "[I 2025-09-27 12:10:06,748] Trial 42 finished with value: 11.23697261225131 and parameters: {'n_estimators': 306, 'max_depth': 7, 'learning_rate': 0.022618971813298763, 'subsample': 0.7271294251642657, 'colsample_bytree': 0.5221719977453732, 'gamma': 4.42118040146705, 'lambda': 3.9744823228898314, 'alpha': 3.3802213723288443}. Best is trial 33 with value: 10.710275620484536.\n",
      "/var/folders/jd/rmzvvh4s2jzg55h334m9_q040000gn/T/ipykernel_73630/1744136363.py:6: FutureWarning:\n",
      "\n",
      "suggest_loguniform has been deprecated in v3.0.0. This feature will be removed in v6.0.0. See https://github.com/optuna/optuna/releases/tag/v3.0.0. Use suggest_float(..., log=True) instead.\n",
      "\n",
      "[I 2025-09-27 12:10:06,884] Trial 43 finished with value: 11.353702203308243 and parameters: {'n_estimators': 333, 'max_depth': 7, 'learning_rate': 0.018596622721533184, 'subsample': 0.7696748977166755, 'colsample_bytree': 0.5092672604650265, 'gamma': 4.98186903565999, 'lambda': 5.06551734638699, 'alpha': 2.347602050775981}. Best is trial 33 with value: 10.710275620484536.\n",
      "/var/folders/jd/rmzvvh4s2jzg55h334m9_q040000gn/T/ipykernel_73630/1744136363.py:6: FutureWarning:\n",
      "\n",
      "suggest_loguniform has been deprecated in v3.0.0. This feature will be removed in v6.0.0. See https://github.com/optuna/optuna/releases/tag/v3.0.0. Use suggest_float(..., log=True) instead.\n",
      "\n",
      "[I 2025-09-27 12:10:07,050] Trial 44 finished with value: 11.19533063467517 and parameters: {'n_estimators': 412, 'max_depth': 8, 'learning_rate': 0.01229020016969452, 'subsample': 0.6960821307143638, 'colsample_bytree': 0.5520735848338576, 'gamma': 4.63953735737217, 'lambda': 5.845506452204368, 'alpha': 3.4101585130020164}. Best is trial 33 with value: 10.710275620484536.\n",
      "/var/folders/jd/rmzvvh4s2jzg55h334m9_q040000gn/T/ipykernel_73630/1744136363.py:6: FutureWarning:\n",
      "\n",
      "suggest_loguniform has been deprecated in v3.0.0. This feature will be removed in v6.0.0. See https://github.com/optuna/optuna/releases/tag/v3.0.0. Use suggest_float(..., log=True) instead.\n",
      "\n",
      "[I 2025-09-27 12:10:07,159] Trial 45 finished with value: 10.8407186529285 and parameters: {'n_estimators': 270, 'max_depth': 6, 'learning_rate': 0.03257378714948607, 'subsample': 0.66152678775231, 'colsample_bytree': 0.5267943945735988, 'gamma': 1.9746053485542436, 'lambda': 4.137336492597477, 'alpha': 2.3939612921491107}. Best is trial 33 with value: 10.710275620484536.\n",
      "/var/folders/jd/rmzvvh4s2jzg55h334m9_q040000gn/T/ipykernel_73630/1744136363.py:6: FutureWarning:\n",
      "\n",
      "suggest_loguniform has been deprecated in v3.0.0. This feature will be removed in v6.0.0. See https://github.com/optuna/optuna/releases/tag/v3.0.0. Use suggest_float(..., log=True) instead.\n",
      "\n",
      "[I 2025-09-27 12:10:07,265] Trial 46 finished with value: 12.148767632485848 and parameters: {'n_estimators': 275, 'max_depth': 6, 'learning_rate': 0.03187444674816187, 'subsample': 0.6624055956684579, 'colsample_bytree': 0.6260126689197928, 'gamma': 1.8508882276701897, 'lambda': 4.170311605471636, 'alpha': 4.326153287991478}. Best is trial 33 with value: 10.710275620484536.\n",
      "/var/folders/jd/rmzvvh4s2jzg55h334m9_q040000gn/T/ipykernel_73630/1744136363.py:6: FutureWarning:\n",
      "\n",
      "suggest_loguniform has been deprecated in v3.0.0. This feature will be removed in v6.0.0. See https://github.com/optuna/optuna/releases/tag/v3.0.0. Use suggest_float(..., log=True) instead.\n",
      "\n",
      "[I 2025-09-27 12:10:07,383] Trial 47 finished with value: 11.62902589675495 and parameters: {'n_estimators': 335, 'max_depth': 6, 'learning_rate': 0.061525726585379754, 'subsample': 0.7164140494433662, 'colsample_bytree': 0.52684374796344, 'gamma': 2.0438907008111094, 'lambda': 3.2776944152617578, 'alpha': 4.078757962096045}. Best is trial 33 with value: 10.710275620484536.\n",
      "/var/folders/jd/rmzvvh4s2jzg55h334m9_q040000gn/T/ipykernel_73630/1744136363.py:6: FutureWarning:\n",
      "\n",
      "suggest_loguniform has been deprecated in v3.0.0. This feature will be removed in v6.0.0. See https://github.com/optuna/optuna/releases/tag/v3.0.0. Use suggest_float(..., log=True) instead.\n",
      "\n",
      "[I 2025-09-27 12:10:07,513] Trial 48 finished with value: 11.945271336017415 and parameters: {'n_estimators': 294, 'max_depth': 7, 'learning_rate': 0.0472786941806205, 'subsample': 0.5457148688823961, 'colsample_bytree': 0.6582625457668427, 'gamma': 3.305906119598629, 'lambda': 2.7356530103005063, 'alpha': 5.0038572223549345}. Best is trial 33 with value: 10.710275620484536.\n",
      "/var/folders/jd/rmzvvh4s2jzg55h334m9_q040000gn/T/ipykernel_73630/1744136363.py:6: FutureWarning:\n",
      "\n",
      "suggest_loguniform has been deprecated in v3.0.0. This feature will be removed in v6.0.0. See https://github.com/optuna/optuna/releases/tag/v3.0.0. Use suggest_float(..., log=True) instead.\n",
      "\n",
      "[I 2025-09-27 12:10:07,636] Trial 49 finished with value: 13.416646372405122 and parameters: {'n_estimators': 255, 'max_depth': 5, 'learning_rate': 0.03261269877729697, 'subsample': 0.8329370697480258, 'colsample_bytree': 0.6086068146825546, 'gamma': 1.3368818270306928, 'lambda': 1.961842077721631, 'alpha': 3.0667380291886177}. Best is trial 33 with value: 10.710275620484536.\n"
     ]
    },
    {
     "name": "stdout",
     "output_type": "stream",
     "text": [
      "Best Hyperparameters: {'n_estimators': 285, 'max_depth': 7, 'learning_rate': 0.021354477159285488, 'subsample': 0.6432831830450241, 'colsample_bytree': 0.5447486697611413, 'gamma': 4.487033179783025, 'lambda': 5.750418647105777, 'alpha': 2.4340031467687604}\n"
     ]
    }
   ],
   "execution_count": 107
  },
  {
   "cell_type": "markdown",
   "id": "567c1723",
   "metadata": {},
   "source": [
    "### Step 2: Use the optimal parameters to train the XGBoost model\n",
    "---\n",
    "- Check the optimal RMSE after training."
   ]
  },
  {
   "cell_type": "code",
   "id": "f58466d1",
   "metadata": {
    "ExecuteTime": {
     "end_time": "2025-09-27T04:09:45.790010Z",
     "start_time": "2025-09-27T04:09:45.647668Z"
    }
   },
   "source": [
    "# Use the best hyperparameters to train the final model\n",
    "best_params = study.best_params\n",
    "best_model = xgb.XGBRegressor(**best_params)\n",
    "best_model.fit(X_train, y_train)\n",
    "\n",
    "# Evaluate on the test set\n",
    "y_pred = best_model.predict(X_test)\n",
    "rmse = root_mean_squared_error(y_test, y_pred)\n",
    "print(f'Optimized RMSE: {rmse:.2f} minutes')"
   ],
   "outputs": [
    {
     "name": "stdout",
     "output_type": "stream",
     "text": [
      "Optimized RMSE: 10.30 minutes\n"
     ]
    }
   ],
   "execution_count": 106
  },
  {
   "cell_type": "markdown",
   "id": "f71c22b8",
   "metadata": {},
   "source": [
    "### Step 3: Checking for Feature Importance\n",
    "---\n",
    "\n",
    "1. What is Gain in XGBoost?\n",
    "Gain measures the improvement in the model's objective function (e.g., error reduction or information gain) when a feature is used to split the data at a node in the decision tree. It represents how much a feature contributes to reducing the prediction error. XGBoost builds trees iteratively, and at each step, it looks for the best split to reduce the objective function. The \"gain\" is used to evaluate which feature should be split at each point in the tree.\n",
    "\n",
    "2. How is Gain Calculated?\n",
    "\n",
    "- Objective Function: In XGBoost, the objective function consists of a loss function (such as squared error for regression or log-loss for classification) and a regularization term to prevent overfitting.\n",
    "\n",
    "- Gain Calculation: Gain is calculated based on the difference between the loss function before and after splitting on a particular feature. At each possible split point, XGBoost evaluates how the split affects the error. It checks the error reduction achieved by splitting the data into two sub-groups and sums the errors for both groups.\n",
    "\n",
    "For a feature, $f$, gain is calculated as:\n",
    "\n",
    "\\begin{align}\n",
    "\\text{Information Score} = Score_{\\text{left child}} + Score_{\\text{right child}} − Score_{\\text{Parent}}\n",
    "\\end{align}\n",
    " \n",
    "where:\n",
    "\n",
    "    - Score represents the contribution of a node to the overall model performance, based on the loss function.\n",
    "    - The left child and right child refer to the two nodes created after the split.\n",
    "\n",
    "- The goal is to maximize this gain at each node when building the decision tree.\n",
    "\n",
    "- Feature Importance: Once the decision trees are built, the importance of a feature is derived by summing up the gain for all splits that use that feature across all trees in the model. Features with higher cumulative gains are considered more important since they contribute more to reducing the prediction error.\n",
    "\n",
    "3 . Why Use Gain for Feature Importance?\n",
    "\n",
    "- Interpretability: Gain provides a direct measure of how useful a feature is for improving model accuracy. A higher gain indicates that a feature plays a more significant role in model performance.\n",
    "\n",
    "- Ranking Features: It allows us to rank features based on their contribution to the model, which is valuable for understanding which features are most influential in making predictions.\n",
    "\n",
    "4. Limitations:\n",
    "\n",
    "- Bias towards features with many possible values: Gain might give more importance to features with a high number of potential split points, like continuous variables, which can sometimes result in overestimating their importance.\n",
    "\n",
    "#### Interpreation\n",
    "---\n",
    "\n",
    "- The result showed that only distance and restaurant popularity has an impact on the XGBOOST regresstion model."
   ]
  },
  {
   "cell_type": "code",
   "id": "c49a760f",
   "metadata": {
    "ExecuteTime": {
     "end_time": "2025-09-27T04:14:03.779797Z",
     "start_time": "2025-09-27T04:14:03.714693Z"
    }
   },
   "source": [
    "# Plot feature importance\n",
    "# Convert feature importance to a DataFrame\n",
    "importance = best_model.get_booster().get_score(importance_type='gain')\n",
    "importance_df = pd.DataFrame(list(importance.items()), columns=['Feature', 'Importance'])\n",
    "\n",
    "# Plot using matplotlib\n",
    "plt.barh(importance_df['Feature'], importance_df['Importance'])\n",
    "plt.xlabel('Importance')\n",
    "plt.ylabel('Features')\n",
    "plt.title('Feature Importance - Gain')\n",
    "plt.gca().invert_yaxis() # To display the most important feature at the top\n",
    "plt.show()"
   ],
   "outputs": [
    {
     "data": {
      "text/plain": [
       "<Figure size 640x480 with 1 Axes>"
      ],
      "image/png": "[encoded data removed]"
     },
     "metadata": {},
     "output_type": "display_data"
    }
   ],
   "execution_count": 109
  },
  {
   "cell_type": "markdown",
   "id": "b7286c7b",
   "metadata": {},
   "source": [
    "### Step 4: Retraining the model with the important features"
   ]
  },
  {
   "cell_type": "code",
   "id": "0c54e289",
   "metadata": {
    "ExecuteTime": {
     "end_time": "2025-09-27T04:14:30.890697Z",
     "start_time": "2025-09-27T04:14:30.885905Z"
    }
   },
   "source": [
    "df2 = df.drop(['order_size','weather_conditions', 'traffic_conditions'], axis=1)"
   ],
   "outputs": [],
   "execution_count": 110
  },
  {
   "cell_type": "code",
   "id": "bad2810d",
   "metadata": {
    "ExecuteTime": {
     "end_time": "2025-09-27T04:14:31.414051Z",
     "start_time": "2025-09-27T04:14:31.409296Z"
    }
   },
   "source": [
    "# Separate features and target variable\n",
    "X2 = df2.drop(columns=['time_to_deliver'])\n",
    "y2 = df2['time_to_deliver']\n",
    "# Split the data\n",
    "X_train2, X_test2, y_train2, y_test2 = train_test_split(X2, y2, test_size=0.2, random_state=42)"
   ],
   "outputs": [],
   "execution_count": 111
  },
  {
   "cell_type": "code",
   "id": "e46e9122",
   "metadata": {
    "ExecuteTime": {
     "end_time": "2025-09-27T04:14:34.311547Z",
     "start_time": "2025-09-27T04:14:34.306200Z"
    }
   },
   "source": [
    "X_train2.columns"
   ],
   "outputs": [
    {
     "data": {
      "text/plain": [
       "Index(['distance_km', 'restaurant_popularity'], dtype='object')"
      ]
     },
     "execution_count": 112,
     "metadata": {},
     "output_type": "execute_result"
    }
   ],
   "execution_count": 112
  },
  {
   "cell_type": "code",
   "id": "85f8daae",
   "metadata": {
    "ExecuteTime": {
     "end_time": "2025-09-27T04:14:51.141338Z",
     "start_time": "2025-09-27T04:14:51.136781Z"
    }
   },
   "source": [
    "def objective2(trial):\n",
    "    # Define the hyperparameters to tune\n",
    "    param = {\n",
    "        'objective': 'reg:squarederror',\n",
    "        'n_estimators': trial.suggest_int('n_estimators', 50, 500),\n",
    "        'max_depth': trial.suggest_int('max_depth', 3, 10),\n",
    "        'learning_rate': trial.suggest_loguniform('learning_rate', 0.01, 0.3),\n",
    "        'subsample': trial.suggest_float('subsample', 0.5, 1.0),\n",
    "        'colsample_bytree': trial.suggest_float('colsample_bytree', 0.5, 1.0),\n",
    "        'gamma': trial.suggest_float('gamma', 0, 5),\n",
    "        'lambda': trial.suggest_float('lambda', 1e-3, 10.0),\n",
    "        'alpha': trial.suggest_float('alpha', 1e-3, 10.0)\n",
    "    }\n",
    "\n",
    "    # Train the XGBoost model\n",
    "    model = xgb.XGBRegressor(**param)\n",
    "    model.fit(X_train2, y_train2)\n",
    "\n",
    "    # Predict on the validation set\n",
    "    y_pred2 = model.predict(X_test2)\n",
    "\n",
    "    # Calculate the RMSE\n",
    "    rmse = root_mean_squared_error(y_test2, y_pred2)\n",
    "\n",
    "    return rmse"
   ],
   "outputs": [],
   "execution_count": 113
  },
  {
   "cell_type": "code",
   "id": "dbc52396",
   "metadata": {
    "ExecuteTime": {
     "end_time": "2025-09-27T04:14:55.149183Z",
     "start_time": "2025-09-27T04:14:51.636265Z"
    }
   },
   "source": [
    "# Create a study to minimize the RMSE\n",
    "study2 = optuna.create_study(direction='minimize')\n",
    "study2.optimize(objective2, n_trials=50)  # You can increase n_trials for a more exhaustive search\n",
    "\n",
    "# Print the best hyperparameters\n",
    "print(\"Best Hyperparameters:\", study2.best_params)"
   ],
   "outputs": [
    {
     "name": "stderr",
     "output_type": "stream",
     "text": [
      "[I 2025-09-27 12:14:51,638] A new study created in memory with name: no-name-fb4bc932-dac9-4186-ae42-e9f5e120a8e4\n",
      "/var/folders/jd/rmzvvh4s2jzg55h334m9_q040000gn/T/ipykernel_73630/2934146010.py:7: FutureWarning:\n",
      "\n",
      "suggest_loguniform has been deprecated in v3.0.0. This feature will be removed in v6.0.0. See https://github.com/optuna/optuna/releases/tag/v3.0.0. Use suggest_float(..., log=True) instead.\n",
      "\n",
      "[I 2025-09-27 12:14:51,723] Trial 0 finished with value: 11.291512204172413 and parameters: {'n_estimators': 247, 'max_depth': 5, 'learning_rate': 0.04655004989318156, 'subsample': 0.6521617439323978, 'colsample_bytree': 0.6953424103160303, 'gamma': 2.7857487365290794, 'lambda': 2.9144660080237306, 'alpha': 3.061282563703025}. Best is trial 0 with value: 11.291512204172413.\n",
      "/var/folders/jd/rmzvvh4s2jzg55h334m9_q040000gn/T/ipykernel_73630/2934146010.py:7: FutureWarning:\n",
      "\n",
      "suggest_loguniform has been deprecated in v3.0.0. This feature will be removed in v6.0.0. See https://github.com/optuna/optuna/releases/tag/v3.0.0. Use suggest_float(..., log=True) instead.\n",
      "\n",
      "[I 2025-09-27 12:14:51,881] Trial 1 finished with value: 13.313251068009512 and parameters: {'n_estimators': 403, 'max_depth': 4, 'learning_rate': 0.014175906396608878, 'subsample': 0.9496869977912559, 'colsample_bytree': 0.6696125735555964, 'gamma': 1.0216013048217172, 'lambda': 7.947921062355965, 'alpha': 5.459908752772805}. Best is trial 0 with value: 11.291512204172413.\n",
      "/var/folders/jd/rmzvvh4s2jzg55h334m9_q040000gn/T/ipykernel_73630/2934146010.py:7: FutureWarning:\n",
      "\n",
      "suggest_loguniform has been deprecated in v3.0.0. This feature will be removed in v6.0.0. See https://github.com/optuna/optuna/releases/tag/v3.0.0. Use suggest_float(..., log=True) instead.\n",
      "\n",
      "[I 2025-09-27 12:14:51,972] Trial 2 finished with value: 13.021632761406059 and parameters: {'n_estimators': 372, 'max_depth': 7, 'learning_rate': 0.29395345153401, 'subsample': 0.9294426974569173, 'colsample_bytree': 0.8929096819906183, 'gamma': 2.7325041768726415, 'lambda': 6.090095642541526, 'alpha': 5.961675298206115}. Best is trial 0 with value: 11.291512204172413.\n",
      "/var/folders/jd/rmzvvh4s2jzg55h334m9_q040000gn/T/ipykernel_73630/2934146010.py:7: FutureWarning:\n",
      "\n",
      "suggest_loguniform has been deprecated in v3.0.0. This feature will be removed in v6.0.0. See https://github.com/optuna/optuna/releases/tag/v3.0.0. Use suggest_float(..., log=True) instead.\n",
      "\n",
      "[I 2025-09-27 12:14:52,026] Trial 3 finished with value: 12.155608852684528 and parameters: {'n_estimators': 199, 'max_depth': 5, 'learning_rate': 0.2736442508654313, 'subsample': 0.8153255855848618, 'colsample_bytree': 0.689249974362156, 'gamma': 2.641934158891235, 'lambda': 5.2007962512186285, 'alpha': 0.3014420141451384}. Best is trial 0 with value: 11.291512204172413.\n",
      "/var/folders/jd/rmzvvh4s2jzg55h334m9_q040000gn/T/ipykernel_73630/2934146010.py:7: FutureWarning:\n",
      "\n",
      "suggest_loguniform has been deprecated in v3.0.0. This feature will be removed in v6.0.0. See https://github.com/optuna/optuna/releases/tag/v3.0.0. Use suggest_float(..., log=True) instead.\n",
      "\n",
      "[I 2025-09-27 12:14:52,206] Trial 4 finished with value: 11.759292612802275 and parameters: {'n_estimators': 425, 'max_depth': 7, 'learning_rate': 0.031032664212034967, 'subsample': 0.6904611410673411, 'colsample_bytree': 0.920365636959559, 'gamma': 0.22263681979697914, 'lambda': 6.738019278178544, 'alpha': 0.559481525919391}. Best is trial 0 with value: 11.291512204172413.\n",
      "/var/folders/jd/rmzvvh4s2jzg55h334m9_q040000gn/T/ipykernel_73630/2934146010.py:7: FutureWarning:\n",
      "\n",
      "suggest_loguniform has been deprecated in v3.0.0. This feature will be removed in v6.0.0. See https://github.com/optuna/optuna/releases/tag/v3.0.0. Use suggest_float(..., log=True) instead.\n",
      "\n",
      "[I 2025-09-27 12:14:52,245] Trial 5 finished with value: 12.859272622549254 and parameters: {'n_estimators': 109, 'max_depth': 5, 'learning_rate': 0.07966757360827503, 'subsample': 0.8822792519262883, 'colsample_bytree': 0.7040062189477265, 'gamma': 4.696651117936034, 'lambda': 2.116945396198538, 'alpha': 7.19671681881669}. Best is trial 0 with value: 11.291512204172413.\n",
      "/var/folders/jd/rmzvvh4s2jzg55h334m9_q040000gn/T/ipykernel_73630/2934146010.py:7: FutureWarning:\n",
      "\n",
      "suggest_loguniform has been deprecated in v3.0.0. This feature will be removed in v6.0.0. See https://github.com/optuna/optuna/releases/tag/v3.0.0. Use suggest_float(..., log=True) instead.\n",
      "\n",
      "[I 2025-09-27 12:14:52,338] Trial 6 finished with value: 12.563194172653207 and parameters: {'n_estimators': 358, 'max_depth': 7, 'learning_rate': 0.07407800018342652, 'subsample': 0.8850289147503876, 'colsample_bytree': 0.6155348666691509, 'gamma': 2.8910878413929764, 'lambda': 3.560413744589728, 'alpha': 2.807751480589147}. Best is trial 0 with value: 11.291512204172413.\n",
      "/var/folders/jd/rmzvvh4s2jzg55h334m9_q040000gn/T/ipykernel_73630/2934146010.py:7: FutureWarning:\n",
      "\n",
      "suggest_loguniform has been deprecated in v3.0.0. This feature will be removed in v6.0.0. See https://github.com/optuna/optuna/releases/tag/v3.0.0. Use suggest_float(..., log=True) instead.\n",
      "\n",
      "[I 2025-09-27 12:14:52,361] Trial 7 finished with value: 10.303557698041388 and parameters: {'n_estimators': 58, 'max_depth': 4, 'learning_rate': 0.07926266035117753, 'subsample': 0.6295192791589937, 'colsample_bytree': 0.5687916231718406, 'gamma': 4.368935947133023, 'lambda': 0.03487540912810061, 'alpha': 4.204251448656196}. Best is trial 7 with value: 10.303557698041388.\n",
      "/var/folders/jd/rmzvvh4s2jzg55h334m9_q040000gn/T/ipykernel_73630/2934146010.py:7: FutureWarning:\n",
      "\n",
      "suggest_loguniform has been deprecated in v3.0.0. This feature will be removed in v6.0.0. See https://github.com/optuna/optuna/releases/tag/v3.0.0. Use suggest_float(..., log=True) instead.\n",
      "\n",
      "[I 2025-09-27 12:14:52,424] Trial 8 finished with value: 11.669662391114116 and parameters: {'n_estimators': 206, 'max_depth': 8, 'learning_rate': 0.04982866046734512, 'subsample': 0.7741153855516281, 'colsample_bytree': 0.8600843429109684, 'gamma': 3.1817845486303535, 'lambda': 0.6267034500955225, 'alpha': 7.108070870344845}. Best is trial 7 with value: 10.303557698041388.\n",
      "/var/folders/jd/rmzvvh4s2jzg55h334m9_q040000gn/T/ipykernel_73630/2934146010.py:7: FutureWarning:\n",
      "\n",
      "suggest_loguniform has been deprecated in v3.0.0. This feature will be removed in v6.0.0. See https://github.com/optuna/optuna/releases/tag/v3.0.0. Use suggest_float(..., log=True) instead.\n",
      "\n",
      "[I 2025-09-27 12:14:52,522] Trial 9 finished with value: 12.631950033664785 and parameters: {'n_estimators': 276, 'max_depth': 3, 'learning_rate': 0.030675741141274138, 'subsample': 0.8089576540001037, 'colsample_bytree': 0.828444623713614, 'gamma': 2.5613549251024015, 'lambda': 5.488725386285476, 'alpha': 7.21487394975664}. Best is trial 7 with value: 10.303557698041388.\n",
      "/var/folders/jd/rmzvvh4s2jzg55h334m9_q040000gn/T/ipykernel_73630/2934146010.py:7: FutureWarning:\n",
      "\n",
      "suggest_loguniform has been deprecated in v3.0.0. This feature will be removed in v6.0.0. See https://github.com/optuna/optuna/releases/tag/v3.0.0. Use suggest_float(..., log=True) instead.\n",
      "\n",
      "[I 2025-09-27 12:14:52,550] Trial 10 finished with value: 12.13630598937792 and parameters: {'n_estimators': 51, 'max_depth': 10, 'learning_rate': 0.1575985300889237, 'subsample': 0.5709659611613509, 'colsample_bytree': 0.516528073467683, 'gamma': 4.864965031338002, 'lambda': 9.553301031454975, 'alpha': 9.964277337249204}. Best is trial 7 with value: 10.303557698041388.\n",
      "/var/folders/jd/rmzvvh4s2jzg55h334m9_q040000gn/T/ipykernel_73630/2934146010.py:7: FutureWarning:\n",
      "\n",
      "suggest_loguniform has been deprecated in v3.0.0. This feature will be removed in v6.0.0. See https://github.com/optuna/optuna/releases/tag/v3.0.0. Use suggest_float(..., log=True) instead.\n",
      "\n",
      "[I 2025-09-27 12:14:52,599] Trial 11 finished with value: 9.912611454409053 and parameters: {'n_estimators': 147, 'max_depth': 5, 'learning_rate': 0.11554174775437336, 'subsample': 0.6244521763964821, 'colsample_bytree': 0.5505658159012945, 'gamma': 4.202274174748912, 'lambda': 0.010433948642883273, 'alpha': 3.560794521842345}. Best is trial 11 with value: 9.912611454409053.\n",
      "/var/folders/jd/rmzvvh4s2jzg55h334m9_q040000gn/T/ipykernel_73630/2934146010.py:7: FutureWarning:\n",
      "\n",
      "suggest_loguniform has been deprecated in v3.0.0. This feature will be removed in v6.0.0. See https://github.com/optuna/optuna/releases/tag/v3.0.0. Use suggest_float(..., log=True) instead.\n",
      "\n",
      "[I 2025-09-27 12:14:52,639] Trial 12 finished with value: 9.389516906046245 and parameters: {'n_estimators': 101, 'max_depth': 3, 'learning_rate': 0.13489873856455625, 'subsample': 0.5286366325662578, 'colsample_bytree': 0.5258993311946718, 'gamma': 3.9459340525110114, 'lambda': 0.1340970319816238, 'alpha': 3.127239764896487}. Best is trial 12 with value: 9.389516906046245.\n",
      "/var/folders/jd/rmzvvh4s2jzg55h334m9_q040000gn/T/ipykernel_73630/2934146010.py:7: FutureWarning:\n",
      "\n",
      "suggest_loguniform has been deprecated in v3.0.0. This feature will be removed in v6.0.0. See https://github.com/optuna/optuna/releases/tag/v3.0.0. Use suggest_float(..., log=True) instead.\n",
      "\n",
      "[I 2025-09-27 12:14:52,689] Trial 13 finished with value: 9.749180085582115 and parameters: {'n_estimators': 142, 'max_depth': 3, 'learning_rate': 0.13630912405201212, 'subsample': 0.518903399161601, 'colsample_bytree': 0.5348599695375882, 'gamma': 3.98356252201956, 'lambda': 1.3889908108433413, 'alpha': 1.9057204793183025}. Best is trial 12 with value: 9.389516906046245.\n",
      "/var/folders/jd/rmzvvh4s2jzg55h334m9_q040000gn/T/ipykernel_73630/2934146010.py:7: FutureWarning:\n",
      "\n",
      "suggest_loguniform has been deprecated in v3.0.0. This feature will be removed in v6.0.0. See https://github.com/optuna/optuna/releases/tag/v3.0.0. Use suggest_float(..., log=True) instead.\n",
      "\n",
      "[I 2025-09-27 12:14:52,737] Trial 14 finished with value: 9.490687562258245 and parameters: {'n_estimators': 133, 'max_depth': 3, 'learning_rate': 0.16835979434227225, 'subsample': 0.5209266223044811, 'colsample_bytree': 0.788408002524297, 'gamma': 3.6859940544871193, 'lambda': 1.6189693491919805, 'alpha': 1.6628539514518157}. Best is trial 12 with value: 9.389516906046245.\n",
      "/var/folders/jd/rmzvvh4s2jzg55h334m9_q040000gn/T/ipykernel_73630/2934146010.py:7: FutureWarning:\n",
      "\n",
      "suggest_loguniform has been deprecated in v3.0.0. This feature will be removed in v6.0.0. See https://github.com/optuna/optuna/releases/tag/v3.0.0. Use suggest_float(..., log=True) instead.\n",
      "\n",
      "[I 2025-09-27 12:14:52,823] Trial 15 finished with value: 9.865917430658586 and parameters: {'n_estimators': 298, 'max_depth': 3, 'learning_rate': 0.17583263385875592, 'subsample': 0.5062424186696771, 'colsample_bytree': 0.7975636237815217, 'gamma': 3.5017883084542833, 'lambda': 3.805603228056452, 'alpha': 1.612127133169752}. Best is trial 12 with value: 9.389516906046245.\n",
      "/var/folders/jd/rmzvvh4s2jzg55h334m9_q040000gn/T/ipykernel_73630/2934146010.py:7: FutureWarning:\n",
      "\n",
      "suggest_loguniform has been deprecated in v3.0.0. This feature will be removed in v6.0.0. See https://github.com/optuna/optuna/releases/tag/v3.0.0. Use suggest_float(..., log=True) instead.\n",
      "\n",
      "[I 2025-09-27 12:14:52,947] Trial 16 finished with value: 9.624940297627818 and parameters: {'n_estimators': 499, 'max_depth': 9, 'learning_rate': 0.20674937180805938, 'subsample': 0.5682298739546807, 'colsample_bytree': 0.9926147134256146, 'gamma': 1.3351110374648716, 'lambda': 2.0337083964948937, 'alpha': 1.443155583349126}. Best is trial 12 with value: 9.389516906046245.\n",
      "/var/folders/jd/rmzvvh4s2jzg55h334m9_q040000gn/T/ipykernel_73630/2934146010.py:7: FutureWarning:\n",
      "\n",
      "suggest_loguniform has been deprecated in v3.0.0. This feature will be removed in v6.0.0. See https://github.com/optuna/optuna/releases/tag/v3.0.0. Use suggest_float(..., log=True) instead.\n",
      "\n",
      "[I 2025-09-27 12:14:52,989] Trial 17 finished with value: 10.447722171209728 and parameters: {'n_estimators': 110, 'max_depth': 4, 'learning_rate': 0.10801800048507523, 'subsample': 0.7079154665159106, 'colsample_bytree': 0.7660020032307815, 'gamma': 1.9273570108874116, 'lambda': 1.4762324220199574, 'alpha': 4.459548951344576}. Best is trial 12 with value: 9.389516906046245.\n",
      "/var/folders/jd/rmzvvh4s2jzg55h334m9_q040000gn/T/ipykernel_73630/2934146010.py:7: FutureWarning:\n",
      "\n",
      "suggest_loguniform has been deprecated in v3.0.0. This feature will be removed in v6.0.0. See https://github.com/optuna/optuna/releases/tag/v3.0.0. Use suggest_float(..., log=True) instead.\n",
      "\n",
      "[I 2025-09-27 12:14:53,061] Trial 18 finished with value: 12.187520891512921 and parameters: {'n_estimators': 196, 'max_depth': 6, 'learning_rate': 0.01060644697137322, 'subsample': 0.5638195741084318, 'colsample_bytree': 0.6202253818626311, 'gamma': 3.6057869455553755, 'lambda': 3.977610208266831, 'alpha': 2.467505297686997}. Best is trial 12 with value: 9.389516906046245.\n",
      "/var/folders/jd/rmzvvh4s2jzg55h334m9_q040000gn/T/ipykernel_73630/2934146010.py:7: FutureWarning:\n",
      "\n",
      "suggest_loguniform has been deprecated in v3.0.0. This feature will be removed in v6.0.0. See https://github.com/optuna/optuna/releases/tag/v3.0.0. Use suggest_float(..., log=True) instead.\n",
      "\n",
      "[I 2025-09-27 12:14:53,102] Trial 19 finished with value: 9.90412382241136 and parameters: {'n_estimators': 100, 'max_depth': 3, 'learning_rate': 0.18740326831698612, 'subsample': 0.5002858113040558, 'colsample_bytree': 0.7609757481327509, 'gamma': 1.9482409229498243, 'lambda': 2.709801158374528, 'alpha': 0.8191402118023463}. Best is trial 12 with value: 9.389516906046245.\n",
      "/var/folders/jd/rmzvvh4s2jzg55h334m9_q040000gn/T/ipykernel_73630/2934146010.py:7: FutureWarning:\n",
      "\n",
      "suggest_loguniform has been deprecated in v3.0.0. This feature will be removed in v6.0.0. See https://github.com/optuna/optuna/releases/tag/v3.0.0. Use suggest_float(..., log=True) instead.\n",
      "\n",
      "[I 2025-09-27 12:14:53,154] Trial 20 finished with value: 10.233302714322322 and parameters: {'n_estimators': 163, 'max_depth': 6, 'learning_rate': 0.09399048556898543, 'subsample': 0.594319932138467, 'colsample_bytree': 0.6173183254621251, 'gamma': 3.7798306793266376, 'lambda': 1.1538491416818184, 'alpha': 3.7099610757425183}. Best is trial 12 with value: 9.389516906046245.\n",
      "/var/folders/jd/rmzvvh4s2jzg55h334m9_q040000gn/T/ipykernel_73630/2934146010.py:7: FutureWarning:\n",
      "\n",
      "suggest_loguniform has been deprecated in v3.0.0. This feature will be removed in v6.0.0. See https://github.com/optuna/optuna/releases/tag/v3.0.0. Use suggest_float(..., log=True) instead.\n",
      "\n",
      "[I 2025-09-27 12:14:53,279] Trial 21 finished with value: 9.766988187468213 and parameters: {'n_estimators': 489, 'max_depth': 10, 'learning_rate': 0.21382555099309808, 'subsample': 0.5562580649853149, 'colsample_bytree': 0.9995437694139273, 'gamma': 1.6990300153078837, 'lambda': 2.1725101431761153, 'alpha': 2.001681913867052}. Best is trial 12 with value: 9.389516906046245.\n",
      "/var/folders/jd/rmzvvh4s2jzg55h334m9_q040000gn/T/ipykernel_73630/2934146010.py:7: FutureWarning:\n",
      "\n",
      "suggest_loguniform has been deprecated in v3.0.0. This feature will be removed in v6.0.0. See https://github.com/optuna/optuna/releases/tag/v3.0.0. Use suggest_float(..., log=True) instead.\n",
      "\n",
      "[I 2025-09-27 12:14:53,402] Trial 22 finished with value: 9.54169838932824 and parameters: {'n_estimators': 472, 'max_depth': 9, 'learning_rate': 0.22198341007784875, 'subsample': 0.544117094856706, 'colsample_bytree': 0.9965484554048278, 'gamma': 1.0860963631512344, 'lambda': 0.8722942849619896, 'alpha': 0.9901112999754262}. Best is trial 12 with value: 9.389516906046245.\n",
      "/var/folders/jd/rmzvvh4s2jzg55h334m9_q040000gn/T/ipykernel_73630/2934146010.py:7: FutureWarning:\n",
      "\n",
      "suggest_loguniform has been deprecated in v3.0.0. This feature will be removed in v6.0.0. See https://github.com/optuna/optuna/releases/tag/v3.0.0. Use suggest_float(..., log=True) instead.\n",
      "\n",
      "[I 2025-09-27 12:14:53,491] Trial 23 finished with value: 9.309473430477489 and parameters: {'n_estimators': 317, 'max_depth': 9, 'learning_rate': 0.25020900464430446, 'subsample': 0.6740665428573013, 'colsample_bytree': 0.8972750420302851, 'gamma': 0.42955768096034497, 'lambda': 0.8505342772298636, 'alpha': 0.9419611900267221}. Best is trial 23 with value: 9.309473430477489.\n",
      "/var/folders/jd/rmzvvh4s2jzg55h334m9_q040000gn/T/ipykernel_73630/2934146010.py:7: FutureWarning:\n",
      "\n",
      "suggest_loguniform has been deprecated in v3.0.0. This feature will be removed in v6.0.0. See https://github.com/optuna/optuna/releases/tag/v3.0.0. Use suggest_float(..., log=True) instead.\n",
      "\n",
      "[I 2025-09-27 12:14:53,584] Trial 24 finished with value: 10.006435977232833 and parameters: {'n_estimators': 326, 'max_depth': 8, 'learning_rate': 0.14856286287846587, 'subsample': 0.6854475648805516, 'colsample_bytree': 0.8925865361560398, 'gamma': 0.26928927358570187, 'lambda': 0.5555666488296845, 'alpha': 0.07663274872602654}. Best is trial 23 with value: 9.309473430477489.\n",
      "/var/folders/jd/rmzvvh4s2jzg55h334m9_q040000gn/T/ipykernel_73630/2934146010.py:7: FutureWarning:\n",
      "\n",
      "suggest_loguniform has been deprecated in v3.0.0. This feature will be removed in v6.0.0. See https://github.com/optuna/optuna/releases/tag/v3.0.0. Use suggest_float(..., log=True) instead.\n",
      "\n",
      "[I 2025-09-27 12:14:53,648] Trial 25 finished with value: 9.843522414474107 and parameters: {'n_estimators': 215, 'max_depth': 4, 'learning_rate': 0.2895673042130232, 'subsample': 0.7469760145849351, 'colsample_bytree': 0.814233805199485, 'gamma': 3.220113987858886, 'lambda': 2.7305716370789996, 'alpha': 2.4758130303922266}. Best is trial 23 with value: 9.309473430477489.\n",
      "/var/folders/jd/rmzvvh4s2jzg55h334m9_q040000gn/T/ipykernel_73630/2934146010.py:7: FutureWarning:\n",
      "\n",
      "suggest_loguniform has been deprecated in v3.0.0. This feature will be removed in v6.0.0. See https://github.com/optuna/optuna/releases/tag/v3.0.0. Use suggest_float(..., log=True) instead.\n",
      "\n",
      "[I 2025-09-27 12:14:53,727] Trial 26 finished with value: 10.31211632250074 and parameters: {'n_estimators': 253, 'max_depth': 9, 'learning_rate': 0.1253250518834587, 'subsample': 0.6061483882200622, 'colsample_bytree': 0.9485005570934513, 'gamma': 4.56394551716687, 'lambda': 4.374379386878499, 'alpha': 1.368781897669146}. Best is trial 23 with value: 9.309473430477489.\n",
      "/var/folders/jd/rmzvvh4s2jzg55h334m9_q040000gn/T/ipykernel_73630/2934146010.py:7: FutureWarning:\n",
      "\n",
      "suggest_loguniform has been deprecated in v3.0.0. This feature will be removed in v6.0.0. See https://github.com/optuna/optuna/releases/tag/v3.0.0. Use suggest_float(..., log=True) instead.\n",
      "\n",
      "[I 2025-09-27 12:14:53,771] Trial 27 finished with value: 10.676083230288338 and parameters: {'n_estimators': 86, 'max_depth': 8, 'learning_rate': 0.06535798777378614, 'subsample': 0.6548227832905974, 'colsample_bytree': 0.7331815611128599, 'gamma': 2.1484723628333073, 'lambda': 1.7025663356639014, 'alpha': 3.3447301382084533}. Best is trial 23 with value: 9.309473430477489.\n",
      "/var/folders/jd/rmzvvh4s2jzg55h334m9_q040000gn/T/ipykernel_73630/2934146010.py:7: FutureWarning:\n",
      "\n",
      "suggest_loguniform has been deprecated in v3.0.0. This feature will be removed in v6.0.0. See https://github.com/optuna/optuna/releases/tag/v3.0.0. Use suggest_float(..., log=True) instead.\n",
      "\n",
      "[I 2025-09-27 12:14:53,859] Trial 28 finished with value: 10.442506404705284 and parameters: {'n_estimators': 310, 'max_depth': 6, 'learning_rate': 0.09976664138134013, 'subsample': 0.7198029451772974, 'colsample_bytree': 0.8522067657178206, 'gamma': 0.6258956050416099, 'lambda': 0.4393969758560896, 'alpha': 4.395723467805471}. Best is trial 23 with value: 9.309473430477489.\n",
      "/var/folders/jd/rmzvvh4s2jzg55h334m9_q040000gn/T/ipykernel_73630/2934146010.py:7: FutureWarning:\n",
      "\n",
      "suggest_loguniform has been deprecated in v3.0.0. This feature will be removed in v6.0.0. See https://github.com/optuna/optuna/releases/tag/v3.0.0. Use suggest_float(..., log=True) instead.\n",
      "\n",
      "[I 2025-09-27 12:14:53,946] Trial 29 finished with value: 11.390804560944195 and parameters: {'n_estimators': 235, 'max_depth': 5, 'learning_rate': 0.03534803337926853, 'subsample': 0.6563209050043333, 'colsample_bytree': 0.7914326308605084, 'gamma': 4.995198628451995, 'lambda': 3.1002693187291714, 'alpha': 2.9030913603238417}. Best is trial 23 with value: 9.309473430477489.\n",
      "/var/folders/jd/rmzvvh4s2jzg55h334m9_q040000gn/T/ipykernel_73630/2934146010.py:7: FutureWarning:\n",
      "\n",
      "suggest_loguniform has been deprecated in v3.0.0. This feature will be removed in v6.0.0. See https://github.com/optuna/optuna/releases/tag/v3.0.0. Use suggest_float(..., log=True) instead.\n",
      "\n",
      "[I 2025-09-27 12:14:54,003] Trial 30 finished with value: 9.440692401853996 and parameters: {'n_estimators': 167, 'max_depth': 4, 'learning_rate': 0.23075913796794542, 'subsample': 0.5246029405688006, 'colsample_bytree': 0.6498081991606569, 'gamma': 3.2582119300656665, 'lambda': 2.807420594497991, 'alpha': 2.274565666249957}. Best is trial 23 with value: 9.309473430477489.\n",
      "/var/folders/jd/rmzvvh4s2jzg55h334m9_q040000gn/T/ipykernel_73630/2934146010.py:7: FutureWarning:\n",
      "\n",
      "suggest_loguniform has been deprecated in v3.0.0. This feature will be removed in v6.0.0. See https://github.com/optuna/optuna/releases/tag/v3.0.0. Use suggest_float(..., log=True) instead.\n",
      "\n",
      "[I 2025-09-27 12:14:54,056] Trial 31 finished with value: 9.451308478909741 and parameters: {'n_estimators': 165, 'max_depth': 3, 'learning_rate': 0.2468583449837205, 'subsample': 0.5330278695806604, 'colsample_bytree': 0.6475667194090455, 'gamma': 3.2081180925619885, 'lambda': 1.138060704368181, 'alpha': 1.98798764026056}. Best is trial 23 with value: 9.309473430477489.\n",
      "/var/folders/jd/rmzvvh4s2jzg55h334m9_q040000gn/T/ipykernel_73630/2934146010.py:7: FutureWarning:\n",
      "\n",
      "suggest_loguniform has been deprecated in v3.0.0. This feature will be removed in v6.0.0. See https://github.com/optuna/optuna/releases/tag/v3.0.0. Use suggest_float(..., log=True) instead.\n",
      "\n",
      "[I 2025-09-27 12:14:54,108] Trial 32 finished with value: 9.587303392001138 and parameters: {'n_estimators': 164, 'max_depth': 4, 'learning_rate': 0.23244506848877844, 'subsample': 0.5935221566094024, 'colsample_bytree': 0.6527093863464468, 'gamma': 3.1903173911175347, 'lambda': 0.9765635534278864, 'alpha': 2.200626724924757}. Best is trial 23 with value: 9.309473430477489.\n",
      "/var/folders/jd/rmzvvh4s2jzg55h334m9_q040000gn/T/ipykernel_73630/2934146010.py:7: FutureWarning:\n",
      "\n",
      "suggest_loguniform has been deprecated in v3.0.0. This feature will be removed in v6.0.0. See https://github.com/optuna/optuna/releases/tag/v3.0.0. Use suggest_float(..., log=True) instead.\n",
      "\n",
      "[I 2025-09-27 12:14:54,184] Trial 33 finished with value: 10.120656068215032 and parameters: {'n_estimators': 263, 'max_depth': 3, 'learning_rate': 0.24675172245927063, 'subsample': 0.5395653338987954, 'colsample_bytree': 0.5658950935240699, 'gamma': 2.344039747452112, 'lambda': 2.707196305243394, 'alpha': 5.846741750429428}. Best is trial 23 with value: 9.309473430477489.\n",
      "/var/folders/jd/rmzvvh4s2jzg55h334m9_q040000gn/T/ipykernel_73630/2934146010.py:7: FutureWarning:\n",
      "\n",
      "suggest_loguniform has been deprecated in v3.0.0. This feature will be removed in v6.0.0. See https://github.com/optuna/optuna/releases/tag/v3.0.0. Use suggest_float(..., log=True) instead.\n",
      "\n",
      "[I 2025-09-27 12:14:54,243] Trial 34 finished with value: 9.438377790997787 and parameters: {'n_estimators': 186, 'max_depth': 4, 'learning_rate': 0.2792893596036537, 'subsample': 0.6303821946199544, 'colsample_bytree': 0.5006576007268355, 'gamma': 4.101255804707908, 'lambda': 0.20395028370163681, 'alpha': 4.925287151684115}. Best is trial 23 with value: 9.309473430477489.\n",
      "/var/folders/jd/rmzvvh4s2jzg55h334m9_q040000gn/T/ipykernel_73630/2934146010.py:7: FutureWarning:\n",
      "\n",
      "suggest_loguniform has been deprecated in v3.0.0. This feature will be removed in v6.0.0. See https://github.com/optuna/optuna/releases/tag/v3.0.0. Use suggest_float(..., log=True) instead.\n",
      "\n",
      "[I 2025-09-27 12:14:54,322] Trial 35 finished with value: 11.440083774721606 and parameters: {'n_estimators': 187, 'max_depth': 4, 'learning_rate': 0.020235330245326453, 'subsample': 0.6730849546365573, 'colsample_bytree': 0.500630876476329, 'gamma': 3.9550507238157464, 'lambda': 0.1762634242782507, 'alpha': 5.203888425692423}. Best is trial 23 with value: 9.309473430477489.\n",
      "/var/folders/jd/rmzvvh4s2jzg55h334m9_q040000gn/T/ipykernel_73630/2934146010.py:7: FutureWarning:\n",
      "\n",
      "suggest_loguniform has been deprecated in v3.0.0. This feature will be removed in v6.0.0. See https://github.com/optuna/optuna/releases/tag/v3.0.0. Use suggest_float(..., log=True) instead.\n",
      "\n",
      "[I 2025-09-27 12:14:54,421] Trial 36 finished with value: 13.312288182286034 and parameters: {'n_estimators': 367, 'max_depth': 5, 'learning_rate': 0.19108653392298508, 'subsample': 0.9967790671139223, 'colsample_bytree': 0.592383428926731, 'gamma': 4.125182821724283, 'lambda': 4.604565155685734, 'alpha': 6.1508260784028135}. Best is trial 23 with value: 9.309473430477489.\n",
      "/var/folders/jd/rmzvvh4s2jzg55h334m9_q040000gn/T/ipykernel_73630/2934146010.py:7: FutureWarning:\n",
      "\n",
      "suggest_loguniform has been deprecated in v3.0.0. This feature will be removed in v6.0.0. See https://github.com/optuna/optuna/releases/tag/v3.0.0. Use suggest_float(..., log=True) instead.\n",
      "\n",
      "[I 2025-09-27 12:14:54,459] Trial 37 finished with value: 10.508850032371292 and parameters: {'n_estimators': 85, 'max_depth': 4, 'learning_rate': 0.2903775219258801, 'subsample': 0.6295194634804315, 'colsample_bytree': 0.6896188536130587, 'gamma': 4.397091726371523, 'lambda': 6.403334123704413, 'alpha': 4.007118342152824}. Best is trial 23 with value: 9.309473430477489.\n",
      "/var/folders/jd/rmzvvh4s2jzg55h334m9_q040000gn/T/ipykernel_73630/2934146010.py:7: FutureWarning:\n",
      "\n",
      "suggest_loguniform has been deprecated in v3.0.0. This feature will be removed in v6.0.0. See https://github.com/optuna/optuna/releases/tag/v3.0.0. Use suggest_float(..., log=True) instead.\n",
      "\n",
      "[I 2025-09-27 12:14:54,567] Trial 38 finished with value: 10.894951021191655 and parameters: {'n_estimators': 401, 'max_depth': 6, 'learning_rate': 0.2977914485208883, 'subsample': 0.720857724226338, 'colsample_bytree': 0.5838568214711779, 'gamma': 3.4369791671625425, 'lambda': 7.915516001114762, 'alpha': 4.804975137681446}. Best is trial 23 with value: 9.309473430477489.\n",
      "/var/folders/jd/rmzvvh4s2jzg55h334m9_q040000gn/T/ipykernel_73630/2934146010.py:7: FutureWarning:\n",
      "\n",
      "suggest_loguniform has been deprecated in v3.0.0. This feature will be removed in v6.0.0. See https://github.com/optuna/optuna/releases/tag/v3.0.0. Use suggest_float(..., log=True) instead.\n",
      "\n",
      "[I 2025-09-27 12:14:54,662] Trial 39 finished with value: 10.4330440471571 and parameters: {'n_estimators': 328, 'max_depth': 7, 'learning_rate': 0.1388092128004897, 'subsample': 0.6108937725382776, 'colsample_bytree': 0.5317668529400614, 'gamma': 2.920957084758226, 'lambda': 2.194646816602156, 'alpha': 2.8970905349696614}. Best is trial 23 with value: 9.309473430477489.\n",
      "/var/folders/jd/rmzvvh4s2jzg55h334m9_q040000gn/T/ipykernel_73630/2934146010.py:7: FutureWarning:\n",
      "\n",
      "suggest_loguniform has been deprecated in v3.0.0. This feature will be removed in v6.0.0. See https://github.com/optuna/optuna/releases/tag/v3.0.0. Use suggest_float(..., log=True) instead.\n",
      "\n",
      "[I 2025-09-27 12:14:54,733] Trial 40 finished with value: 10.844585205960172 and parameters: {'n_estimators': 231, 'max_depth': 5, 'learning_rate': 0.2553632465719928, 'subsample': 0.758229712699626, 'colsample_bytree': 0.7243308088229998, 'gamma': 0.038810656951576594, 'lambda': 3.2931443680052785, 'alpha': 6.580017792909919}. Best is trial 23 with value: 9.309473430477489.\n",
      "/var/folders/jd/rmzvvh4s2jzg55h334m9_q040000gn/T/ipykernel_73630/2934146010.py:7: FutureWarning:\n",
      "\n",
      "suggest_loguniform has been deprecated in v3.0.0. This feature will be removed in v6.0.0. See https://github.com/optuna/optuna/releases/tag/v3.0.0. Use suggest_float(..., log=True) instead.\n",
      "\n",
      "[I 2025-09-27 12:14:54,791] Trial 41 finished with value: 9.217884565541961 and parameters: {'n_estimators': 175, 'max_depth': 3, 'learning_rate': 0.2384367710292283, 'subsample': 0.5366537008012845, 'colsample_bytree': 0.6385422184092278, 'gamma': 2.93904031637385, 'lambda': 0.669078268418586, 'alpha': 1.0014664442504753}. Best is trial 41 with value: 9.217884565541961.\n",
      "/var/folders/jd/rmzvvh4s2jzg55h334m9_q040000gn/T/ipykernel_73630/2934146010.py:7: FutureWarning:\n",
      "\n",
      "suggest_loguniform has been deprecated in v3.0.0. This feature will be removed in v6.0.0. See https://github.com/optuna/optuna/releases/tag/v3.0.0. Use suggest_float(..., log=True) instead.\n",
      "\n",
      "[I 2025-09-27 12:14:54,836] Trial 42 finished with value: 9.392878361858735 and parameters: {'n_estimators': 117, 'max_depth': 4, 'learning_rate': 0.181488603665992, 'subsample': 0.5788602876914672, 'colsample_bytree': 0.6599096588039077, 'gamma': 2.405756445765738, 'lambda': 0.7994211702047871, 'alpha': 0.6208841502075448}. Best is trial 41 with value: 9.217884565541961.\n",
      "/var/folders/jd/rmzvvh4s2jzg55h334m9_q040000gn/T/ipykernel_73630/2934146010.py:7: FutureWarning:\n",
      "\n",
      "suggest_loguniform has been deprecated in v3.0.0. This feature will be removed in v6.0.0. See https://github.com/optuna/optuna/releases/tag/v3.0.0. Use suggest_float(..., log=True) instead.\n",
      "\n",
      "[I 2025-09-27 12:14:54,882] Trial 43 finished with value: 9.558540104242779 and parameters: {'n_estimators': 122, 'max_depth': 4, 'learning_rate': 0.16346403993151887, 'subsample': 0.5794763443217027, 'colsample_bytree': 0.5953614187828565, 'gamma': 2.8482863915692764, 'lambda': 0.6345018687229876, 'alpha': 0.5517786356549386}. Best is trial 41 with value: 9.217884565541961.\n",
      "/var/folders/jd/rmzvvh4s2jzg55h334m9_q040000gn/T/ipykernel_73630/2934146010.py:7: FutureWarning:\n",
      "\n",
      "suggest_loguniform has been deprecated in v3.0.0. This feature will be removed in v6.0.0. See https://github.com/optuna/optuna/releases/tag/v3.0.0. Use suggest_float(..., log=True) instead.\n",
      "\n",
      "[I 2025-09-27 12:14:54,920] Trial 44 finished with value: 9.75690787750648 and parameters: {'n_estimators': 84, 'max_depth': 3, 'learning_rate': 0.17985983312421372, 'subsample': 0.6299194661861085, 'colsample_bytree': 0.5001877030627396, 'gamma': 0.6357540545259672, 'lambda': 0.0015887319880009687, 'alpha': 0.8585607933886581}. Best is trial 41 with value: 9.217884565541961.\n",
      "/var/folders/jd/rmzvvh4s2jzg55h334m9_q040000gn/T/ipykernel_73630/2934146010.py:7: FutureWarning:\n",
      "\n",
      "suggest_loguniform has been deprecated in v3.0.0. This feature will be removed in v6.0.0. See https://github.com/optuna/optuna/releases/tag/v3.0.0. Use suggest_float(..., log=True) instead.\n",
      "\n",
      "[I 2025-09-27 12:14:54,955] Trial 45 finished with value: 9.27719304501875 and parameters: {'n_estimators': 72, 'max_depth': 4, 'learning_rate': 0.19777903413952783, 'subsample': 0.5871292675677267, 'colsample_bytree': 0.676065332192951, 'gamma': 1.4359699282400702, 'lambda': 0.456034863747479, 'alpha': 0.38376972453213876}. Best is trial 41 with value: 9.217884565541961.\n",
      "/var/folders/jd/rmzvvh4s2jzg55h334m9_q040000gn/T/ipykernel_73630/2934146010.py:7: FutureWarning:\n",
      "\n",
      "suggest_loguniform has been deprecated in v3.0.0. This feature will be removed in v6.0.0. See https://github.com/optuna/optuna/releases/tag/v3.0.0. Use suggest_float(..., log=True) instead.\n",
      "\n",
      "[I 2025-09-27 12:14:54,994] Trial 46 finished with value: 10.003237450864333 and parameters: {'n_estimators': 65, 'max_depth': 3, 'learning_rate': 0.12594085939631047, 'subsample': 0.5812007893791242, 'colsample_bytree': 0.6766483690682377, 'gamma': 1.677204472215299, 'lambda': 1.8391756836931525, 'alpha': 0.3181921598992687}. Best is trial 41 with value: 9.217884565541961.\n",
      "/var/folders/jd/rmzvvh4s2jzg55h334m9_q040000gn/T/ipykernel_73630/2934146010.py:7: FutureWarning:\n",
      "\n",
      "suggest_loguniform has been deprecated in v3.0.0. This feature will be removed in v6.0.0. See https://github.com/optuna/optuna/releases/tag/v3.0.0. Use suggest_float(..., log=True) instead.\n",
      "\n",
      "[I 2025-09-27 12:14:55,032] Trial 47 finished with value: 9.870354333096948 and parameters: {'n_estimators': 69, 'max_depth': 3, 'learning_rate': 0.08793304034614645, 'subsample': 0.5494823928880259, 'colsample_bytree': 0.7114600081567509, 'gamma': 2.414506956293363, 'lambda': 0.7504625229576903, 'alpha': 1.1672136742713928}. Best is trial 41 with value: 9.217884565541961.\n",
      "/var/folders/jd/rmzvvh4s2jzg55h334m9_q040000gn/T/ipykernel_73630/2934146010.py:7: FutureWarning:\n",
      "\n",
      "suggest_loguniform has been deprecated in v3.0.0. This feature will be removed in v6.0.0. See https://github.com/optuna/optuna/releases/tag/v3.0.0. Use suggest_float(..., log=True) instead.\n",
      "\n",
      "[I 2025-09-27 12:14:55,095] Trial 48 finished with value: 12.834571500838338 and parameters: {'n_estimators': 121, 'max_depth': 3, 'learning_rate': 0.06297836370734057, 'subsample': 0.8918156190886406, 'colsample_bytree': 0.628472089460913, 'gamma': 1.2950605211455228, 'lambda': 7.422666700616963, 'alpha': 8.916756088621117}. Best is trial 41 with value: 9.217884565541961.\n",
      "/var/folders/jd/rmzvvh4s2jzg55h334m9_q040000gn/T/ipykernel_73630/2934146010.py:7: FutureWarning:\n",
      "\n",
      "suggest_loguniform has been deprecated in v3.0.0. This feature will be removed in v6.0.0. See https://github.com/optuna/optuna/releases/tag/v3.0.0. Use suggest_float(..., log=True) instead.\n",
      "\n",
      "[I 2025-09-27 12:14:55,147] Trial 49 finished with value: 11.563448374353703 and parameters: {'n_estimators': 142, 'max_depth': 5, 'learning_rate': 0.209911209338986, 'subsample': 0.826946506578834, 'colsample_bytree': 0.6722613329695417, 'gamma': 0.8957813198801103, 'lambda': 1.3407574588057294, 'alpha': 0.4736892444939619}. Best is trial 41 with value: 9.217884565541961.\n"
     ]
    },
    {
     "name": "stdout",
     "output_type": "stream",
     "text": [
      "Best Hyperparameters: {'n_estimators': 175, 'max_depth': 3, 'learning_rate': 0.2384367710292283, 'subsample': 0.5366537008012845, 'colsample_bytree': 0.6385422184092278, 'gamma': 2.93904031637385, 'lambda': 0.669078268418586, 'alpha': 1.0014664442504753}\n",
      "Best RMSE: 9.217884565541961\n"
     ]
    }
   ],
   "execution_count": 114
  },
  {
   "cell_type": "code",
   "id": "9b516040",
   "metadata": {
    "ExecuteTime": {
     "end_time": "2025-09-27T04:14:59.417701Z",
     "start_time": "2025-09-27T04:14:59.359204Z"
    }
   },
   "source": [
    "# Use the best hyperparameters to train the final model\n",
    "best_params2 = study2.best_params\n",
    "best_model2 = xgb.XGBRegressor(**best_params2)\n",
    "best_model2.fit(X_train2, y_train2)\n",
    "\n",
    "# Evaluate on the test set\n",
    "y_pred2 = best_model2.predict(X_test2)\n",
    "rmse = root_mean_squared_error(y_test2, y_pred2)\n",
    "print(f'Optimized RMSE: {rmse:.2f} minutes')"
   ],
   "outputs": [
    {
     "name": "stdout",
     "output_type": "stream",
     "text": [
      "Optimized RMSE: 9.22 minutes\n"
     ]
    }
   ],
   "execution_count": 115
  },
  {
   "cell_type": "markdown",
   "id": "73bfeebf",
   "metadata": {},
   "source": [
    "### Step 5: Performing K-Fold Validation\n",
    "---"
   ]
  },
  {
   "cell_type": "code",
   "id": "13bac746",
   "metadata": {
    "ExecuteTime": {
     "end_time": "2025-09-27T04:15:17.458533Z",
     "start_time": "2025-09-27T04:15:16.889337Z"
    }
   },
   "source": [
    "# Perform 5-fold cross-validation\n",
    "k = 5\n",
    "scores = cross_val_score(best_model, X, y, cv=k, scoring='neg_root_mean_squared_error')\n",
    "\n",
    "# Convert scores to positive and print the average RMSE\n",
    "rmse_scores = -scores\n",
    "print(f'RMSE scores for each fold: {rmse_scores}')\n",
    "print(f'Average RMSE: {np.mean(rmse_scores):.2f} minutes')"
   ],
   "outputs": [
    {
     "name": "stdout",
     "output_type": "stream",
     "text": [
      "RMSE scores for each fold: [10.91593596  4.88154953  4.48438975  7.9187555   3.81695696]\n",
      "Average RMSE: 6.40 minutes\n"
     ]
    }
   ],
   "execution_count": 116
  },
  {
   "cell_type": "markdown",
   "id": "f9b28cb7",
   "metadata": {},
   "source": [
    "# Recommendations\n",
    "---\n",
    "\n",
    "1. Prepare more on-call drivers during cloudy weather.\n",
    "2. Have more call agents during cloudy weather to recieve complaints.\n",
    "3. Since app usage is high during cloudy weather, provide higher storing and computing capacity during this season.\n",
    "4. More data to achieve a more accurate model."
   ]
  },
  {
   "metadata": {},
   "cell_type": "markdown",
   "source": "# Conclusion",
   "id": "919e1cbb7e93bbab"
  }
 ],
 "metadata": {
  "kernelspec": {
   "display_name": "Python 3 (ipykernel)",
   "language": "python",
   "name": "python3"
  },
  "language_info": {
   "codemirror_mode": {
    "name": "ipython",
    "version": 3
   },
   "file_extension": ".py",
   "mimetype": "text/x-python",
   "name": "python",
   "nbconvert_exporter": "python",
   "pygments_lexer": "ipython3",
   "version": "3.8.19"
  }
 },
 "nbformat": 4,
 "nbformat_minor": 5
}
