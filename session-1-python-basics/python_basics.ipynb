{
 "cells": [
  {
   "cell_type": "code",
   "execution_count": 13,
   "id": "2e8be9c0-14e4-4d8d-a28e-dbc035e80448",
   "metadata": {},
   "outputs": [],
   "source": [
    "number: int = 10\n",
    "i_am_a_string: str = \"\"\"\n",
    "The quick brown fox\n",
    "jumped over the lazy dog\n",
    "\"\"\""
   ]
  },
  {
   "cell_type": "code",
   "execution_count": 14,
   "id": "3d529ed8-9200-48e6-8877-64bd4e8ce6d7",
   "metadata": {},
   "outputs": [
    {
     "name": "stdout",
     "output_type": "stream",
     "text": [
      "\n",
      "The quick brown fox\n",
      "jumped over the lazy dog\n",
      "\n"
     ]
    }
   ],
   "source": [
    "print(i_am_a_string)"
   ]
  },
  {
   "cell_type": "code",
   "execution_count": null,
   "id": "16be6bc6-902c-4513-bfd6-ab64de8ccad5",
   "metadata": {},
   "outputs": [],
   "source": [
    "i_am_true: bool = True\n",
    "i_am_false: bool = False"
   ]
  },
  {
   "cell_type": "code",
   "execution_count": null,
   "id": "0507036f-3510-4c29-8cfa-94cf606f319d",
   "metadata": {},
   "outputs": [],
   "source": [
    "decimal: float = 123123.51231231231"
   ]
  },
  {
   "cell_type": "code",
   "execution_count": 39,
   "id": "c0ea6335-9989-499a-9aed-70ef49a40efc",
   "metadata": {},
   "outputs": [],
   "source": [
    "lst: list = [1, 2, 3, 4, 5]"
   ]
  },
  {
   "cell_type": "code",
   "execution_count": 17,
   "id": "6fedfa4f-006b-420b-b79b-e481699bf5d2",
   "metadata": {},
   "outputs": [
    {
     "name": "stdout",
     "output_type": "stream",
     "text": [
      "[1, 2, 3, 4, 5]\n"
     ]
    }
   ],
   "source": [
    "print(lst)"
   ]
  },
  {
   "cell_type": "markdown",
   "id": "64efb21e-3786-47ff-b593-ec3b5487c169",
   "metadata": {},
   "source": [
    "## Cool Stuff with the Types"
   ]
  },
  {
   "cell_type": "code",
   "execution_count": 21,
   "id": "8f15f3c6-a029-4cb7-8a3e-249a3cc69654",
   "metadata": {},
   "outputs": [
    {
     "name": "stdout",
     "output_type": "stream",
     "text": [
      "5555555555\n"
     ]
    }
   ],
   "source": [
    "x_str = str(5)\n",
    "print(x_str * 10)"
   ]
  },
  {
   "cell_type": "code",
   "execution_count": 23,
   "id": "411927e4-babd-479b-a5c7-f9abdab36e46",
   "metadata": {},
   "outputs": [],
   "source": [
    "string = \"Hello\""
   ]
  },
  {
   "cell_type": "code",
   "execution_count": 24,
   "id": "0e3113b6-1dfe-4edc-9989-34197dd491ce",
   "metadata": {},
   "outputs": [
    {
     "name": "stdout",
     "output_type": "stream",
     "text": [
      "HELLO\n"
     ]
    }
   ],
   "source": [
    "print(string.upper())"
   ]
  },
  {
   "cell_type": "code",
   "execution_count": 25,
   "id": "6cbbc69c-b673-4cb1-ab27-8aa4d5e6614b",
   "metadata": {},
   "outputs": [],
   "source": [
    "lst_2 = [1, 2, 3, 4, 5]\n",
    "lst_2.append(6)"
   ]
  },
  {
   "cell_type": "code",
   "execution_count": 26,
   "id": "02984992-e81e-4ff3-825a-b9c6ef1beee9",
   "metadata": {},
   "outputs": [
    {
     "name": "stdout",
     "output_type": "stream",
     "text": [
      "[1, 2, 3, 4, 5, 6]\n"
     ]
    }
   ],
   "source": [
    "print(lst_2)"
   ]
  },
  {
   "cell_type": "code",
   "execution_count": 28,
   "id": "4960f24f-32a6-48bb-944a-b86f37ed6728",
   "metadata": {},
   "outputs": [
    {
     "name": "stdout",
     "output_type": "stream",
     "text": [
      "[0, 1, 2, 3, 4, 5, 6]\n"
     ]
    }
   ],
   "source": [
    "lst_1 = [0]\n",
    "print(lst_1 + lst_2)"
   ]
  },
  {
   "cell_type": "markdown",
   "id": "c083d722-e1ad-4bb1-98cd-0a0eca89dfc2",
   "metadata": {},
   "source": [
    "## Control Flow"
   ]
  },
  {
   "cell_type": "code",
   "execution_count": 34,
   "id": "dd1df7d7-81ba-4286-b5c8-82faddaf8605",
   "metadata": {},
   "outputs": [
    {
     "name": "stdout",
     "output_type": "stream",
     "text": [
      "Hi\n"
     ]
    }
   ],
   "source": [
    "cond = True\n",
    "if cond is False:\n",
    "    print(\"Hello World\")\n",
    "else:\n",
    "    print(\"Hi\")"
   ]
  },
  {
   "cell_type": "code",
   "execution_count": null,
   "id": "9e0b2b35-92f6-47b0-8615-92841cf663c6",
   "metadata": {},
   "outputs": [],
   "source": []
  },
  {
   "cell_type": "code",
   "execution_count": null,
   "id": "683fa9f8-24a0-453f-904c-fa020261604d",
   "metadata": {},
   "outputs": [],
   "source": []
  },
  {
   "cell_type": "markdown",
   "id": "2bdc03ac-ac17-41b4-9376-e612e418e181",
   "metadata": {},
   "source": [
    "if 5 <= 10:\n",
    "    print(\"Obviously\")"
   ]
  },
  {
   "cell_type": "markdown",
   "id": "cb6f625f-c588-47e0-a6d7-b2f2cb34d766",
   "metadata": {},
   "source": [
    "you want your number x to be in the range between 5 < x < 10"
   ]
  },
  {
   "cell_type": "code",
   "execution_count": 36,
   "id": "06a03e5b-02b2-4eab-a555-b520674721d2",
   "metadata": {},
   "outputs": [
    {
     "name": "stdout",
     "output_type": "stream",
     "text": [
      "Yes\n"
     ]
    }
   ],
   "source": [
    "x = 7\n",
    "if 5 < x < 10:\n",
    "    print(\"Yes\")"
   ]
  },
  {
   "cell_type": "code",
   "execution_count": 38,
   "id": "80ea1b4e-8e88-4937-a99e-31600926c330",
   "metadata": {},
   "outputs": [],
   "source": [
    "cond_1 = True\n",
    "cond_2 = False\n",
    "if cond_1 and cond_2:\n",
    "    print(\"yes\")"
   ]
  },
  {
   "cell_type": "code",
   "execution_count": 41,
   "id": "f40b45bd-ce06-4c41-b486-89b6517268cb",
   "metadata": {},
   "outputs": [],
   "source": [
    "lst_1 = [1, 2]\n",
    "lst_2 = [3, 4]"
   ]
  },
  {
   "cell_type": "code",
   "execution_count": 42,
   "id": "f7799e44-47f1-4081-8636-f2f098712f4e",
   "metadata": {},
   "outputs": [
    {
     "name": "stdout",
     "output_type": "stream",
     "text": [
      "1 3\n",
      "2 4\n"
     ]
    }
   ],
   "source": [
    "for i_1, i_2 in zip(lst_1, lst_2):\n",
    "    print(i_1, i_2)"
   ]
  },
  {
   "cell_type": "code",
   "execution_count": 44,
   "id": "ddaa53b9-6bdc-4681-afde-e5f58e02446c",
   "metadata": {},
   "outputs": [],
   "source": [
    "def add_x_y(x: int, y: int) -> int:\n",
    "    return x + y"
   ]
  },
  {
   "cell_type": "code",
   "execution_count": 45,
   "id": "c7070aa4-251e-4388-a287-16ac6351b39e",
   "metadata": {},
   "outputs": [
    {
     "name": "stdout",
     "output_type": "stream",
     "text": [
      "19\n"
     ]
    }
   ],
   "source": [
    "print(add_x_y(9, 10))"
   ]
  },
  {
   "cell_type": "code",
   "execution_count": 46,
   "id": "90b0b70d-10c6-4682-9586-4b7c50651e94",
   "metadata": {},
   "outputs": [],
   "source": [
    "def string_fancier_function(string, func):\n",
    "    return func(string)"
   ]
  },
  {
   "cell_type": "code",
   "execution_count": 49,
   "id": "4dc3e9f6-ce37-490b-975e-d9019a4a33a5",
   "metadata": {},
   "outputs": [
    {
     "name": "stdout",
     "output_type": "stream",
     "text": [
      "I am lowercase\n"
     ]
    }
   ],
   "source": [
    "fancy_string = string_fancier_function(\"i am lowercase\", lambda string: string.capitalize())\n",
    "print(fancy_string)"
   ]
  },
  {
   "cell_type": "code",
   "execution_count": 58,
   "id": "0aafb7bb-4360-427c-95d6-2d6d6e0f9e45",
   "metadata": {},
   "outputs": [],
   "source": [
    "def i_return_a_lst_of_three_numbers():\n",
    "    return [11, 12, 13]"
   ]
  },
  {
   "cell_type": "code",
   "execution_count": 59,
   "id": "5367cb3c-a963-4d9a-a896-a9a26793ca18",
   "metadata": {},
   "outputs": [
    {
     "name": "stdout",
     "output_type": "stream",
     "text": [
      "11 12 13\n"
     ]
    }
   ],
   "source": [
    "x, y, z = i_return_a_lst_of_three_numbers()\n",
    "print(x, y, z)"
   ]
  },
  {
   "cell_type": "code",
   "execution_count": 60,
   "id": "2122301d-4409-44a2-b767-580c2197bb99",
   "metadata": {},
   "outputs": [],
   "source": [
    "def train_test_split(X, Y, test, random_state):\n",
    "    \"\"\"this creates a train test split for your data\n",
    "\n",
    "    :param X:`int` This is your x columns of your dataset\n",
    "    ...\n",
    "\n",
    "    :returns:\n",
    "    \"\"\"\n",
    "    return 1, 2, 3, 4"
   ]
  },
  {
   "cell_type": "code",
   "execution_count": 61,
   "id": "c2e3b24a-a215-49fe-a858-8c2a2d3e6c0e",
   "metadata": {},
   "outputs": [],
   "source": [
    "x_train, x_test, y_train, y_test = train_test_split(x, y, test=0.3, random_state=42)"
   ]
  },
  {
   "cell_type": "code",
   "execution_count": 65,
   "id": "03db115f-99b1-431c-9d14-16fa0226830c",
   "metadata": {},
   "outputs": [
    {
     "name": "stdout",
     "output_type": "stream",
     "text": [
      "B.S. Mechanical Engineering\n"
     ]
    }
   ],
   "source": [
    "my_personal_information = {\n",
    "    \"name\": \"Nick\",\n",
    "    \"program\": \"B.S. Mechanical Engineering\",\n",
    "}\n",
    "print(my_personal_information['program'])"
   ]
  },
  {
   "cell_type": "code",
   "execution_count": 66,
   "id": "d34cd545-ea0d-47ca-8041-fd5115bb0416",
   "metadata": {},
   "outputs": [],
   "source": [
    "def print_the_value_of_the_dictionary(name, program):\n",
    "    print(name, program)"
   ]
  },
  {
   "cell_type": "code",
   "execution_count": 68,
   "id": "f217ee9e-bc4e-408f-a5f3-c0cc7bf41be0",
   "metadata": {},
   "outputs": [
    {
     "name": "stdout",
     "output_type": "stream",
     "text": [
      "Nick B.S. Mechanical Engineering\n"
     ]
    }
   ],
   "source": [
    "print_the_value_of_the_dictionary(**my_personal_information)"
   ]
  },
  {
   "cell_type": "code",
   "execution_count": 69,
   "id": "4275a48c-f7e7-408f-a0d6-21eeeb039d20",
   "metadata": {},
   "outputs": [],
   "source": [
    "hypermeters_for_cnn = {\n",
    "    \"optimizer\": \"adam\",\n",
    "    \"learning_rate\": 0.01,\n",
    "    \"activation_function\": \"sigmoid\",\n",
    "    \"loss_function\": \"adagard\"\n",
    "}"
   ]
  },
  {
   "cell_type": "code",
   "execution_count": 74,
   "id": "c88b42c8-ee60-474d-a5d4-b0faec627ddd",
   "metadata": {},
   "outputs": [],
   "source": [
    "def i_am_a_cnn_neural_network(optimizer, **other_parameters):\n",
    "    print(optimizer, other_parameters)"
   ]
  },
  {
   "cell_type": "code",
   "execution_count": 75,
   "id": "17231e70-7574-47b8-931b-693fbfeb08f5",
   "metadata": {},
   "outputs": [
    {
     "name": "stdout",
     "output_type": "stream",
     "text": [
      "adam {'learning_rate': 0.01, 'activation_function': 'sigmoid', 'loss_function': 'adagard'}\n"
     ]
    }
   ],
   "source": [
    "i_am_a_cnn_neural_network(**hypermeters_for_cnn)"
   ]
  },
  {
   "cell_type": "code",
   "execution_count": 76,
   "id": "0d4aa815-65c4-4ea2-bb1a-a3ff72c53580",
   "metadata": {},
   "outputs": [
    {
     "name": "stdout",
     "output_type": "stream",
     "text": [
      "0.001\n"
     ]
    }
   ],
   "source": [
    "hypermeters_for_cnn['learning_rate'] = 0.001\n",
    "print(hypermeters_for_cnn['learning_rate'])"
   ]
  },
  {
   "cell_type": "code",
   "execution_count": null,
   "id": "ca0432c9-0c3b-4ed2-ad15-6ae9fe89ecee",
   "metadata": {},
   "outputs": [],
   "source": []
  }
 ],
 "metadata": {
  "kernelspec": {
   "display_name": "Python 3 (ipykernel)",
   "language": "python",
   "name": "python3"
  },
  "language_info": {
   "codemirror_mode": {
    "name": "ipython",
    "version": 3
   },
   "file_extension": ".py",
   "mimetype": "text/x-python",
   "name": "python",
   "nbconvert_exporter": "python",
   "pygments_lexer": "ipython3",
   "version": "3.10.9"
  }
 },
 "nbformat": 4,
 "nbformat_minor": 5
}
